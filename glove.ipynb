{
 "cells": [
  {
   "cell_type": "code",
   "execution_count": 1,
   "metadata": {},
   "outputs": [],
   "source": [
    "from collections import Counter, defaultdict\n",
    "import concurrent.futures\n",
    "from concurrent.futures import ThreadPoolExecutor\n",
    "import itertools\n",
    "import math\n",
    "from pathlib import Path\n",
    "from typing import List, Tuple, Union\n",
    "\n",
    "from jupyterthemes import jtplot\n",
    "import matplotlib.pyplot as plt\n",
    "import numpy as np\n",
    "import pandas as pd\n",
    "import scipy\n",
    "from tqdm import tqdm\n",
    "\n",
    "import torch\n",
    "import torch.nn as nn\n",
    "import torch.nn.functional as F\n",
    "import torch.optim as optim\n",
    "import torch.utils as utils\n",
    "\n",
    "from fastai.basic_data import DataBunch\n",
    "from fastai.basic_train import Learner\n",
    "from fastai.train import lr_find, fit_one_cycle\n",
    "from fastprogress import progress_bar\n",
    "\n",
    "from utils import download_wikitext, prepare_data, load_glove\n",
    "from nn_toolkit.vocab import Vocab, VocabEncoder\n",
    "\n",
    "jtplot.style()\n",
    "%load_ext autoreload\n",
    "%matplotlib notebook\n",
    "%autoreload 2"
   ]
  },
  {
   "cell_type": "markdown",
   "metadata": {},
   "source": [
    "### Helpers"
   ]
  },
  {
   "cell_type": "markdown",
   "metadata": {
    "heading_collapsed": true
   },
   "source": [
    "#### Cooccurence Matrix"
   ]
  },
  {
   "cell_type": "code",
   "execution_count": 2,
   "metadata": {
    "hidden": true
   },
   "outputs": [],
   "source": [
    "class Cooccurence:\n",
    "    def __init__(self, vocab: Vocab, window: int, distance_mode: str, num_workers: int) -> None:\n",
    "        self.vocab = vocab\n",
    "        self.window = window\n",
    "        self.distance_mode = distance_mode\n",
    "        self.counts = defaultdict(lambda: defaultdict(float))\n",
    "        self.num_workers = num_workers\n",
    "\n",
    "    def dict_to_df(self):\n",
    "        data = []\n",
    "        for token1, token_counts in self.counts.items():\n",
    "            for token2, count in token_counts.items():\n",
    "                data.append({'token1': token1, 'token2': token2, 'count': count})\n",
    "        df = pd.DataFrame(data)\n",
    "        index = pd.MultiIndex.from_frame(df[['token1', 'token2']])\n",
    "        return pd.DataFrame(df['count'].values, index=index, columns=['count'])\n",
    "\n",
    "    def update(self, documents: List[List[str]]) -> None:\n",
    "        with ThreadPoolExecutor(max_workers=self.num_workers) as executor:\n",
    "            futures = [executor.submit(self.add_doc, doc) for doc in documents]\n",
    "            pbar = progress_bar(concurrent.futures.as_completed(futures), total=len(documents))\n",
    "            for f in pbar:\n",
    "                f.result()\n",
    "\n",
    "    def add_doc(self, doc: List[str]) -> None:\n",
    "        idx = 0\n",
    "        while idx < len(doc):\n",
    "            left = self.get_left_context(doc, idx)\n",
    "            right = self.get_right_context(doc, idx)\n",
    "            self.add_context(left, doc[idx], 'left')\n",
    "            self.add_context(right, doc[idx], 'right')\n",
    "            idx += 1\n",
    "            assert len(self.counts) <= self.vocab.size\n",
    "\n",
    "    def add_context(self, context: List[str], target: str, mode: str) -> None:\n",
    "        if target not in self.vocab: target = '<unk>'\n",
    "        for i, token in enumerate(context):\n",
    "            if token not in self.vocab: token = '<unk>'\n",
    "            d = (i + 1) if mode == 'right' else (self.window - i)\n",
    "            self.counts[target][token] += self.distance_weight(d)\n",
    "        return\n",
    "\n",
    "    def get_right_context(self, doc: List[str], idx: int) -> List[str]:\n",
    "        right_edge = min(len(doc), idx+self.window+1)\n",
    "        right = doc[idx+1: right_edge]\n",
    "        return right\n",
    "\n",
    "    def get_left_context(self, doc: List[str], idx: int) -> List[str]:\n",
    "        left_edge = max(0, idx-self.window)\n",
    "        left = doc[left_edge: idx]\n",
    "        return left\n",
    "\n",
    "    def distance_weight(self, d: int):\n",
    "        if self.distance_mode == 'inverse':\n",
    "            return 1. / d\n",
    "        return 1.\n",
    "\n",
    "    def _get_from_str(self, key: str):\n",
    "        return self.counts[key]\n",
    "\n",
    "    def _get_from_int(self, key: int):\n",
    "        key = self.vocab.int_to_token[key]\n",
    "        return self._get_from_str(key)\n",
    "\n",
    "    def __getitem__(self, key: Union[str, int]):\n",
    "        if isinstance(key, int):\n",
    "            return self._get_from_int(key)\n",
    "        elif isinstance(key, str):\n",
    "            return self._get_from_str(key)\n",
    "        else:\n",
    "            t = type(key)\n",
    "            raise TypeError(f\"Can not look up using type {t}\")"
   ]
  },
  {
   "cell_type": "markdown",
   "metadata": {
    "heading_collapsed": true
   },
   "source": [
    "#### Dataset"
   ]
  },
  {
   "cell_type": "code",
   "execution_count": 3,
   "metadata": {
    "hidden": true
   },
   "outputs": [],
   "source": [
    "class CooDataset(utils.data.Dataset):\n",
    "    def __init__(self, coo: Cooccurence) -> None:\n",
    "        self.coo = coo\n",
    "        self.Xij = coo.dict_to_df()\n",
    "        self.vocab = coo.vocab\n",
    "        \n",
    "        self._prep_df()\n",
    "        \n",
    "    def _prep_df(self):\n",
    "        token1 = pd.Series(self.Xij.index.get_level_values('token1'))\n",
    "        token2 = pd.Series(self.Xij.index.get_level_values('token2'))\n",
    "        self.i = [self.vocab[t] for t in token1]\n",
    "        self.j = [self.vocab[t] for t in token2]\n",
    "        self.counts = self.Xij['count'].tolist()\n",
    "\n",
    "    def __getitem__(self, idx: int):\n",
    "        return self.i[idx], self.j[idx], self.counts[idx]\n",
    "\n",
    "    def __len__(self):\n",
    "        return self.Xij.shape[0]\n",
    "\n",
    "def collate_batch(batch) -> Tuple[torch.Tensor]:\n",
    "    N = len(batch)\n",
    "    i = torch.empty(N, dtype=torch.int64)\n",
    "    j = torch.empty(N, dtype=torch.int64)\n",
    "    Xij = torch.empty(N, dtype=torch.float32)\n",
    "    for k, sample in enumerate(batch):\n",
    "        i[k], j[k], Xij[k] = sample\n",
    "    return (i, j), Xij"
   ]
  },
  {
   "cell_type": "markdown",
   "metadata": {
    "heading_collapsed": true
   },
   "source": [
    "#### Model"
   ]
  },
  {
   "cell_type": "code",
   "execution_count": 4,
   "metadata": {
    "code_folding": [
     60
    ],
    "hidden": true
   },
   "outputs": [],
   "source": [
    "class Glove(nn.Module):\n",
    "    def __init__(self, vocab: Vocab, embedding_dim: int) -> None:\n",
    "        super().__init__()\n",
    "        self.vocab = vocab\n",
    "        self.embedding_dim = embedding_dim\n",
    "        lim = embedding_dim\n",
    "        self.W = nn.Parameter(self._W_init())\n",
    "        self.Wt = nn.Parameter(self._W_init())\n",
    "        self.b = nn.Parameter(self._b_init())\n",
    "        self.bt = nn.Parameter(self._b_init())\n",
    "\n",
    "    def forward(self, i: torch.LongTensor, j: torch.LongTensor) -> torch.Tensor:\n",
    "        wi = F.embedding(i, self.W, padding_idx=self.vocab.pad_index)  # (N, e)\n",
    "        bi = F.embedding(i, self.b, padding_idx=self.vocab.pad_index).squeeze()  # (N,)\n",
    "        wj = F.embedding(j, self.Wt, padding_idx=self.vocab.pad_index)  # (N, e)\n",
    "        bj = F.embedding(j, self.bt, padding_idx=self.vocab.pad_index).squeeze()  # (N,)\n",
    "\n",
    "        dot = (wi * wj).sum(1)  # (N,)\n",
    "        p = dot + bi + bj\n",
    "        return p\n",
    "\n",
    "    def _W_init(self) -> torch.Tensor:\n",
    "        size = [self.vocab.size, self.embedding_dim]\n",
    "        W = torch.empty(*size).uniform_() - 0.5\n",
    "        W = W / math.sqrt(self.embedding_dim)\n",
    "        return W\n",
    "\n",
    "    def _b_init(self) -> torch.Tensor:\n",
    "        size = [self.vocab.size, 1]\n",
    "        b = torch.empty(*size).uniform_() - 0.5\n",
    "        b = b / math.sqrt(self.embedding_dim)\n",
    "        return b\n",
    "\n",
    "    def __getitem__(self, token: str):\n",
    "        idx = self.vocab[token]\n",
    "        return self.W[idx]\n",
    "\n",
    "    def similarity(self, token1: str, token2: str) -> float:\n",
    "        with torch.no_grad():\n",
    "            vec1 = self[token1]\n",
    "            vec2 = self[token2]\n",
    "            norm = torch.norm(vec1) * torch.norm(vec2)\n",
    "            dot = (vec1 * vec2).sum() / norm\n",
    "        return dot.item()\n",
    "    \n",
    "    def analogy(self, token1: str, token2: str, token3: str, k: int = 5) -> str:\n",
    "        with torch.no_grad():\n",
    "            vec1 = self[token1]\n",
    "            vec2 = self[token2]\n",
    "            vec3 = self[token3]\n",
    "            diff = vec1 - vec2 + vec3\n",
    "            diff_norm = diff / torch.norm(diff)\n",
    "            similarity  = self.W @ diff_norm / torch.norm(self.W)\n",
    "            topk = torch.topk(similarity, k)\n",
    "            idx = topk.indices.tolist()[0:k]\n",
    "            vals = topk.values.tolist()[0:k]\n",
    "        words = [self.vocab.get(i, reverse=True) for i in idx]\n",
    "        return list(zip(words, vals))\n",
    "\n",
    "    def most_similar(self, token: str, k: int = 10) -> List[Tuple[str, float]]:\n",
    "        with torch.no_grad():\n",
    "            vec = self[token].unsqueeze(0)  # (1, e)\n",
    "            dot = (vec @ self.W.t()).squeeze()  # (N, )\n",
    "            norm = torch.norm(vec, dim=1) * torch.norm(self.W, dim=1)\n",
    "            norm = torch.clamp(norm, 1e-9, float('inf'))\n",
    "            similarity = dot / norm\n",
    "            topk = torch.topk(similarity, k)\n",
    "        idxs = topk.indices.tolist()[0:k]\n",
    "        vals = topk.values.tolist()[0:k]\n",
    "        words = [self.vocab.get(i, reverse=True) for i in idxs]\n",
    "        return list(zip(words, vals))"
   ]
  },
  {
   "cell_type": "markdown",
   "metadata": {
    "heading_collapsed": true
   },
   "source": [
    "#### Loss"
   ]
  },
  {
   "cell_type": "code",
   "execution_count": 5,
   "metadata": {
    "hidden": true
   },
   "outputs": [],
   "source": [
    "class GloveLoss(nn.modules.loss._Loss):\n",
    "    \"\"\"\n",
    "    Weighted MSE summed, not averaged, over the vocabulary.\n",
    "    \n",
    "    Defaults are set to values in the paper.\n",
    "    https://github.com/stanfordnlp/GloVe/blob/master/src/glove.c#L55\n",
    "    https://nlp.stanford.edu/pubs/glove.pdf\n",
    "    \n",
    "    Parameters\n",
    "    ----------\n",
    "    xmax : int\n",
    "        threshold to apply maximum weighting in the loss function, by default 100\n",
    "    alpha : float\n",
    "        power in weighting function, by default 0.75\n",
    "    \"\"\"\n",
    "\n",
    "    def __init__(self, xmax: int = 100, alpha: float = 0.75) -> None:\n",
    "        super().__init__()\n",
    "        self.xmax = xmax\n",
    "        self.alpha = alpha\n",
    "        \n",
    "    def forward(self, y_hat, Xij) -> torch.Tensor:\n",
    "        w = self.f(Xij)\n",
    "        mse = self.mse(y_hat, Xij)\n",
    "        assert mse.size(0) == y_hat.size(0)\n",
    "        return (w * mse).sum()\n",
    "        \n",
    "    def f(self, Xij:torch.LongTensor) -> torch.FloatTensor:\n",
    "        w = Xij / self.xmax\n",
    "        return torch.clamp(w, 0., 1.).pow(self.alpha)\n",
    "    \n",
    "    def mse(self, y_hat: torch.FloatTensor, Xij: torch.LongTensor) -> torch.FloatTensor:\n",
    "        Xij = Xij.to(torch.float32)\n",
    "        return F.mse_loss(y_hat, torch.log(Xij + 1.), reduction='none')"
   ]
  },
  {
   "cell_type": "markdown",
   "metadata": {},
   "source": [
    "### Run the Training"
   ]
  },
  {
   "cell_type": "markdown",
   "metadata": {
    "heading_collapsed": true
   },
   "source": [
    "#### Load data"
   ]
  },
  {
   "cell_type": "code",
   "execution_count": 6,
   "metadata": {
    "hidden": true
   },
   "outputs": [
    {
     "data": {
      "application/vnd.jupyter.widget-view+json": {
       "model_id": "2d0ab9c6eed54babbad7c5735a7b30e8",
       "version_major": 2,
       "version_minor": 0
      },
      "text/plain": [
       "HBox(children=(IntProgress(value=0, max=78107), HTML(value='')))"
      ]
     },
     "metadata": {},
     "output_type": "display_data"
    },
    {
     "name": "stdout",
     "output_type": "stream",
     "text": [
      "\n"
     ]
    },
    {
     "data": {
      "application/vnd.jupyter.widget-view+json": {
       "model_id": "e4f51ffe3db8415ca9b4f3b85fdf694d",
       "version_major": 2,
       "version_minor": 0
      },
      "text/plain": [
       "HBox(children=(IntProgress(value=0, max=8196), HTML(value='')))"
      ]
     },
     "metadata": {},
     "output_type": "display_data"
    },
    {
     "name": "stdout",
     "output_type": "stream",
     "text": [
      "\n",
      "Vocab size: 28914\n"
     ]
    }
   ],
   "source": [
    "seed = 0\n",
    "text_file = Path('data/raw/wikitext-2-v1.zip')\n",
    "download_wikitext(text_file)\n",
    "\n",
    "train_sents = prepare_data(text_file, mode='train', sampling_rate=1., seed=seed)\n",
    "val_sents = prepare_data(text_file, mode='valid', sampling_rate=1., seed=seed)\n",
    "\n",
    "train_tokens = Counter([t for sent in train_sents for t in sent])\n",
    "max_vocab = 50000\n",
    "vocab = Vocab([t for t, _ in train_tokens.most_common(max_vocab)])\n",
    "print('Vocab size:', vocab.size)"
   ]
  },
  {
   "cell_type": "markdown",
   "metadata": {
    "heading_collapsed": true
   },
   "source": [
    "#### Cooccurence Counts"
   ]
  },
  {
   "cell_type": "code",
   "execution_count": 7,
   "metadata": {
    "hidden": true,
    "scrolled": true
   },
   "outputs": [
    {
     "data": {
      "text/html": [
       "\n",
       "    <div>\n",
       "        <style>\n",
       "            /* Turns off some styling */\n",
       "            progress {\n",
       "                /* gets rid of default border in Firefox and Opera. */\n",
       "                border: none;\n",
       "                /* Needs to be in here for Safari polyfill so background images work as expected. */\n",
       "                background-size: auto;\n",
       "            }\n",
       "            .progress-bar-interrupted, .progress-bar-interrupted::-webkit-progress-bar {\n",
       "                background: #F44336;\n",
       "            }\n",
       "        </style>\n",
       "      <progress value='78107' class='' max='78107', style='width:300px; height:20px; vertical-align: middle;'></progress>\n",
       "      100.00% [78107/78107 00:45<00:00]\n",
       "    </div>\n",
       "    "
      ],
      "text/plain": [
       "<IPython.core.display.HTML object>"
      ]
     },
     "metadata": {},
     "output_type": "display_data"
    },
    {
     "data": {
      "text/html": [
       "\n",
       "    <div>\n",
       "        <style>\n",
       "            /* Turns off some styling */\n",
       "            progress {\n",
       "                /* gets rid of default border in Firefox and Opera. */\n",
       "                border: none;\n",
       "                /* Needs to be in here for Safari polyfill so background images work as expected. */\n",
       "                background-size: auto;\n",
       "            }\n",
       "            .progress-bar-interrupted, .progress-bar-interrupted::-webkit-progress-bar {\n",
       "                background: #F44336;\n",
       "            }\n",
       "        </style>\n",
       "      <progress value='8196' class='' max='8196', style='width:300px; height:20px; vertical-align: middle;'></progress>\n",
       "      100.00% [8196/8196 00:04<00:00]\n",
       "    </div>\n",
       "    "
      ],
      "text/plain": [
       "<IPython.core.display.HTML object>"
      ]
     },
     "metadata": {},
     "output_type": "display_data"
    }
   ],
   "source": [
    "window = 15\n",
    "num_workers = 3\n",
    "d_mode = 'inverse'\n",
    "\n",
    "train_coo = Cooccurence(vocab=vocab, window=window, distance_mode=d_mode, num_workers=num_workers)\n",
    "val_coo = Cooccurence(vocab=vocab, window=window, distance_mode=d_mode, num_workers=num_workers)\n",
    "train_coo.update(train_sents)\n",
    "val_coo.update(val_sents)"
   ]
  },
  {
   "cell_type": "markdown",
   "metadata": {
    "heading_collapsed": true
   },
   "source": [
    "#### Create Dataset"
   ]
  },
  {
   "cell_type": "code",
   "execution_count": 8,
   "metadata": {
    "hidden": true
   },
   "outputs": [],
   "source": [
    "train_ds = CooDataset(train_coo)\n",
    "val_ds = CooDataset(val_coo)"
   ]
  },
  {
   "cell_type": "code",
   "execution_count": 9,
   "metadata": {
    "hidden": true
   },
   "outputs": [
    {
     "name": "stdout",
     "output_type": "stream",
     "text": [
      "If distance mode is not inverse, the following values are the number of words.\n",
      "Total weight in train: 9360282.173523715\n",
      "Total weight in val: 974130.1347680077\n"
     ]
    }
   ],
   "source": [
    "bs = 64\n",
    "pm = False\n",
    "\n",
    "train_dl = utils.data.DataLoader(\n",
    "    train_ds, batch_size=bs, shuffle=True, num_workers=num_workers, pin_memory=pm\n",
    ")\n",
    "val_dl = utils.data.DataLoader(\n",
    "    val_ds, batch_size=bs, shuffle=False, num_workers=num_workers, pin_memory=pm\n",
    ")\n",
    "\n",
    "data = DataBunch(\n",
    "    train_dl=train_dl, valid_dl=val_dl,\n",
    "    collate_fn=collate_batch,\n",
    "    device='cuda:0'\n",
    ")\n",
    "\n",
    "print('If distance mode is not inverse, the following values are the number of words.')\n",
    "print('Total weight in train:', train_ds.Xij['count'].sum())\n",
    "print('Total weight in val:', val_ds.Xij['count'].sum())"
   ]
  },
  {
   "cell_type": "markdown",
   "metadata": {
    "heading_collapsed": true
   },
   "source": [
    "#### Create model"
   ]
  },
  {
   "cell_type": "code",
   "execution_count": 12,
   "metadata": {
    "hidden": true
   },
   "outputs": [],
   "source": [
    "model = Glove(vocab, 100)\n",
    "model.to(data.device)\n",
    "learner = Learner(\n",
    "    data,\n",
    "    model,\n",
    "    loss_func=GloveLoss(xmax=100, alpha=0.75),\n",
    "    opt_func=optim.Adam\n",
    ")"
   ]
  },
  {
   "cell_type": "markdown",
   "metadata": {},
   "source": [
    "### Training"
   ]
  },
  {
   "cell_type": "code",
   "execution_count": 13,
   "metadata": {},
   "outputs": [
    {
     "data": {
      "text/html": [],
      "text/plain": [
       "<IPython.core.display.HTML object>"
      ]
     },
     "metadata": {},
     "output_type": "display_data"
    },
    {
     "name": "stdout",
     "output_type": "stream",
     "text": [
      "LR Finder is complete, type {learner_name}.recorder.plot() to see the graph.\n"
     ]
    },
    {
     "data": {
      "image/png": "[encoded data removed]",
      "text/plain": [
       "<Figure size 432x288 with 1 Axes>"
      ]
     },
     "metadata": {
      "needs_background": "dark"
     },
     "output_type": "display_data"
    }
   ],
   "source": [
    "lr_find(learner)\n",
    "learner.recorder.plot()"
   ]
  },
  {
   "cell_type": "code",
   "execution_count": null,
   "metadata": {
    "scrolled": true
   },
   "outputs": [
    {
     "data": {
      "text/html": [
       "\n",
       "    <div>\n",
       "        <style>\n",
       "            /* Turns off some styling */\n",
       "            progress {\n",
       "                /* gets rid of default border in Firefox and Opera. */\n",
       "                border: none;\n",
       "                /* Needs to be in here for Safari polyfill so background images work as expected. */\n",
       "                background-size: auto;\n",
       "            }\n",
       "            .progress-bar-interrupted, .progress-bar-interrupted::-webkit-progress-bar {\n",
       "                background: #F44336;\n",
       "            }\n",
       "        </style>\n",
       "      <progress value='1' class='' max='2', style='width:300px; height:20px; vertical-align: middle;'></progress>\n",
       "      50.00% [1/2 06:42<06:42]\n",
       "    </div>\n",
       "    \n",
       "<table border=\"1\" class=\"dataframe\">\n",
       "  <thead>\n",
       "    <tr style=\"text-align: left;\">\n",
       "      <th>epoch</th>\n",
       "      <th>train_loss</th>\n",
       "      <th>valid_loss</th>\n",
       "      <th>time</th>\n",
       "    </tr>\n",
       "  </thead>\n",
       "  <tbody>\n",
       "    <tr>\n",
       "      <td>0</td>\n",
       "      <td>75.403496</td>\n",
       "      <td>75.651093</td>\n",
       "      <td>06:42</td>\n",
       "    </tr>\n",
       "  </tbody>\n",
       "</table><p>\n",
       "\n",
       "    <div>\n",
       "        <style>\n",
       "            /* Turns off some styling */\n",
       "            progress {\n",
       "                /* gets rid of default border in Firefox and Opera. */\n",
       "                border: none;\n",
       "                /* Needs to be in here for Safari polyfill so background images work as expected. */\n",
       "                background-size: auto;\n",
       "            }\n",
       "            .progress-bar-interrupted, .progress-bar-interrupted::-webkit-progress-bar {\n",
       "                background: #F44336;\n",
       "            }\n",
       "        </style>\n",
       "      <progress value='120380' class='' max='133850', style='width:300px; height:20px; vertical-align: middle;'></progress>\n",
       "      89.94% [120380/133850 05:36<00:37 0.6009]\n",
       "    </div>\n",
       "    "
      ],
      "text/plain": [
       "<IPython.core.display.HTML object>"
      ]
     },
     "metadata": {},
     "output_type": "display_data"
    }
   ],
   "source": [
    "# glove code hyperparams\n",
    "# lr = 0.05\n",
    "# num_epochs = 25\n",
    "# glove code uses lr of 0.05 \n",
    "# https://github.com/stanfordnlp/GloVe/blob/master/src/glove.c\n",
    "# that lr explodes my loss\n",
    "# ~1e-6 behaves better\n",
    "maxlr = 0.05\n",
    "minlr = 5e-3\n",
    "epochs = 25\n",
    "\n",
    "learner.fit_one_cycle(2, max_lr=maxlr)\n",
    "learner.fit(epochs, lr=minlr)"
   ]
  },
  {
   "cell_type": "code",
   "execution_count": 109,
   "metadata": {},
   "outputs": [
    {
     "data": {
      "application/javascript": [
       "/* Put everything inside the global mpl namespace */\n",
       "window.mpl = {};\n",
       "\n",
       "\n",
       "mpl.get_websocket_type = function() {\n",
       "    if (typeof(WebSocket) !== 'undefined') {\n",
       "        return WebSocket;\n",
       "    } else if (typeof(MozWebSocket) !== 'undefined') {\n",
       "        return MozWebSocket;\n",
       "    } else {\n",
       "        alert('Your browser does not have WebSocket support. ' +\n",
       "              'Please try Chrome, Safari or Firefox ≥ 6. ' +\n",
       "              'Firefox 4 and 5 are also supported but you ' +\n",
       "              'have to enable WebSockets in about:config.');\n",
       "    };\n",
       "}\n",
       "\n",
       "mpl.figure = function(figure_id, websocket, ondownload, parent_element) {\n",
       "    this.id = figure_id;\n",
       "\n",
       "    this.ws = websocket;\n",
       "\n",
       "    this.supports_binary = (this.ws.binaryType != undefined);\n",
       "\n",
       "    if (!this.supports_binary) {\n",
       "        var warnings = document.getElementById(\"mpl-warnings\");\n",
       "        if (warnings) {\n",
       "            warnings.style.display = 'block';\n",
       "            warnings.textContent = (\n",
       "                \"This browser does not support binary websocket messages. \" +\n",
       "                    \"Performance may be slow.\");\n",
       "        }\n",
       "    }\n",
       "\n",
       "    this.imageObj = new Image();\n",
       "\n",
       "    this.context = undefined;\n",
       "    this.message = undefined;\n",
       "    this.canvas = undefined;\n",
       "    this.rubberband_canvas = undefined;\n",
       "    this.rubberband_context = undefined;\n",
       "    this.format_dropdown = undefined;\n",
       "\n",
       "    this.image_mode = 'full';\n",
       "\n",
       "    this.root = $('<div/>');\n",
       "    this._root_extra_style(this.root)\n",
       "    this.root.attr('style', 'display: inline-block');\n",
       "\n",
       "    $(parent_element).append(this.root);\n",
       "\n",
       "    this._init_header(this);\n",
       "    this._init_canvas(this);\n",
       "    this._init_toolbar(this);\n",
       "\n",
       "    var fig = this;\n",
       "\n",
       "    this.waiting = false;\n",
       "\n",
       "    this.ws.onopen =  function () {\n",
       "            fig.send_message(\"supports_binary\", {value: fig.supports_binary});\n",
       "            fig.send_message(\"send_image_mode\", {});\n",
       "            if (mpl.ratio != 1) {\n",
       "                fig.send_message(\"set_dpi_ratio\", {'dpi_ratio': mpl.ratio});\n",
       "            }\n",
       "            fig.send_message(\"refresh\", {});\n",
       "        }\n",
       "\n",
       "    this.imageObj.onload = function() {\n",
       "            if (fig.image_mode == 'full') {\n",
       "                // Full images could contain transparency (where diff images\n",
       "                // almost always do), so we need to clear the canvas so that\n",
       "                // there is no ghosting.\n",
       "                fig.context.clearRect(0, 0, fig.canvas.width, fig.canvas.height);\n",
       "            }\n",
       "            fig.context.drawImage(fig.imageObj, 0, 0);\n",
       "        };\n",
       "\n",
       "    this.imageObj.onunload = function() {\n",
       "        fig.ws.close();\n",
       "    }\n",
       "\n",
       "    this.ws.onmessage = this._make_on_message_function(this);\n",
       "\n",
       "    this.ondownload = ondownload;\n",
       "}\n",
       "\n",
       "mpl.figure.prototype._init_header = function() {\n",
       "    var titlebar = $(\n",
       "        '<div class=\"ui-dialog-titlebar ui-widget-header ui-corner-all ' +\n",
       "        'ui-helper-clearfix\"/>');\n",
       "    var titletext = $(\n",
       "        '<div class=\"ui-dialog-title\" style=\"width: 100%; ' +\n",
       "        'text-align: center; padding: 3px;\"/>');\n",
       "    titlebar.append(titletext)\n",
       "    this.root.append(titlebar);\n",
       "    this.header = titletext[0];\n",
       "}\n",
       "\n",
       "\n",
       "\n",
       "mpl.figure.prototype._canvas_extra_style = function(canvas_div) {\n",
       "\n",
       "}\n",
       "\n",
       "\n",
       "mpl.figure.prototype._root_extra_style = function(canvas_div) {\n",
       "\n",
       "}\n",
       "\n",
       "mpl.figure.prototype._init_canvas = function() {\n",
       "    var fig = this;\n",
       "\n",
       "    var canvas_div = $('<div/>');\n",
       "\n",
       "    canvas_div.attr('style', 'position: relative; clear: both; outline: 0');\n",
       "\n",
       "    function canvas_keyboard_event(event) {\n",
       "        return fig.key_event(event, event['data']);\n",
       "    }\n",
       "\n",
       "    canvas_div.keydown('key_press', canvas_keyboard_event);\n",
       "    canvas_div.keyup('key_release', canvas_keyboard_event);\n",
       "    this.canvas_div = canvas_div\n",
       "    this._canvas_extra_style(canvas_div)\n",
       "    this.root.append(canvas_div);\n",
       "\n",
       "    var canvas = $('<canvas/>');\n",
       "    canvas.addClass('mpl-canvas');\n",
       "    canvas.attr('style', \"left: 0; top: 0; z-index: 0; outline: 0\")\n",
       "\n",
       "    this.canvas = canvas[0];\n",
       "    this.context = canvas[0].getContext(\"2d\");\n",
       "\n",
       "    var backingStore = this.context.backingStorePixelRatio ||\n",
       "\tthis.context.webkitBackingStorePixelRatio ||\n",
       "\tthis.context.mozBackingStorePixelRatio ||\n",
       "\tthis.context.msBackingStorePixelRatio ||\n",
       "\tthis.context.oBackingStorePixelRatio ||\n",
       "\tthis.context.backingStorePixelRatio || 1;\n",
       "\n",
       "    mpl.ratio = (window.devicePixelRatio || 1) / backingStore;\n",
       "\n",
       "    var rubberband = $('<canvas/>');\n",
       "    rubberband.attr('style', \"position: absolute; left: 0; top: 0; z-index: 1;\")\n",
       "\n",
       "    var pass_mouse_events = true;\n",
       "\n",
       "    canvas_div.resizable({\n",
       "        start: function(event, ui) {\n",
       "            pass_mouse_events = false;\n",
       "        },\n",
       "        resize: function(event, ui) {\n",
       "            fig.request_resize(ui.size.width, ui.size.height);\n",
       "        },\n",
       "        stop: function(event, ui) {\n",
       "            pass_mouse_events = true;\n",
       "            fig.request_resize(ui.size.width, ui.size.height);\n",
       "        },\n",
       "    });\n",
       "\n",
       "    function mouse_event_fn(event) {\n",
       "        if (pass_mouse_events)\n",
       "            return fig.mouse_event(event, event['data']);\n",
       "    }\n",
       "\n",
       "    rubberband.mousedown('button_press', mouse_event_fn);\n",
       "    rubberband.mouseup('button_release', mouse_event_fn);\n",
       "    // Throttle sequential mouse events to 1 every 20ms.\n",
       "    rubberband.mousemove('motion_notify', mouse_event_fn);\n",
       "\n",
       "    rubberband.mouseenter('figure_enter', mouse_event_fn);\n",
       "    rubberband.mouseleave('figure_leave', mouse_event_fn);\n",
       "\n",
       "    canvas_div.on(\"wheel\", function (event) {\n",
       "        event = event.originalEvent;\n",
       "        event['data'] = 'scroll'\n",
       "        if (event.deltaY < 0) {\n",
       "            event.step = 1;\n",
       "        } else {\n",
       "            event.step = -1;\n",
       "        }\n",
       "        mouse_event_fn(event);\n",
       "    });\n",
       "\n",
       "    canvas_div.append(canvas);\n",
       "    canvas_div.append(rubberband);\n",
       "\n",
       "    this.rubberband = rubberband;\n",
       "    this.rubberband_canvas = rubberband[0];\n",
       "    this.rubberband_context = rubberband[0].getContext(\"2d\");\n",
       "    this.rubberband_context.strokeStyle = \"#000000\";\n",
       "\n",
       "    this._resize_canvas = function(width, height) {\n",
       "        // Keep the size of the canvas, canvas container, and rubber band\n",
       "        // canvas in synch.\n",
       "        canvas_div.css('width', width)\n",
       "        canvas_div.css('height', height)\n",
       "\n",
       "        canvas.attr('width', width * mpl.ratio);\n",
       "        canvas.attr('height', height * mpl.ratio);\n",
       "        canvas.attr('style', 'width: ' + width + 'px; height: ' + height + 'px;');\n",
       "\n",
       "        rubberband.attr('width', width);\n",
       "        rubberband.attr('height', height);\n",
       "    }\n",
       "\n",
       "    // Set the figure to an initial 600x600px, this will subsequently be updated\n",
       "    // upon first draw.\n",
       "    this._resize_canvas(600, 600);\n",
       "\n",
       "    // Disable right mouse context menu.\n",
       "    $(this.rubberband_canvas).bind(\"contextmenu\",function(e){\n",
       "        return false;\n",
       "    });\n",
       "\n",
       "    function set_focus () {\n",
       "        canvas.focus();\n",
       "        canvas_div.focus();\n",
       "    }\n",
       "\n",
       "    window.setTimeout(set_focus, 100);\n",
       "}\n",
       "\n",
       "mpl.figure.prototype._init_toolbar = function() {\n",
       "    var fig = this;\n",
       "\n",
       "    var nav_element = $('<div/>');\n",
       "    nav_element.attr('style', 'width: 100%');\n",
       "    this.root.append(nav_element);\n",
       "\n",
       "    // Define a callback function for later on.\n",
       "    function toolbar_event(event) {\n",
       "        return fig.toolbar_button_onclick(event['data']);\n",
       "    }\n",
       "    function toolbar_mouse_event(event) {\n",
       "        return fig.toolbar_button_onmouseover(event['data']);\n",
       "    }\n",
       "\n",
       "    for(var toolbar_ind in mpl.toolbar_items) {\n",
       "        var name = mpl.toolbar_items[toolbar_ind][0];\n",
       "        var tooltip = mpl.toolbar_items[toolbar_ind][1];\n",
       "        var image = mpl.toolbar_items[toolbar_ind][2];\n",
       "        var method_name = mpl.toolbar_items[toolbar_ind][3];\n",
       "\n",
       "        if (!name) {\n",
       "            // put a spacer in here.\n",
       "            continue;\n",
       "        }\n",
       "        var button = $('<button/>');\n",
       "        button.addClass('ui-button ui-widget ui-state-default ui-corner-all ' +\n",
       "                        'ui-button-icon-only');\n",
       "        button.attr('role', 'button');\n",
       "        button.attr('aria-disabled', 'false');\n",
       "        button.click(method_name, toolbar_event);\n",
       "        button.mouseover(tooltip, toolbar_mouse_event);\n",
       "\n",
       "        var icon_img = $('<span/>');\n",
       "        icon_img.addClass('ui-button-icon-primary ui-icon');\n",
       "        icon_img.addClass(image);\n",
       "        icon_img.addClass('ui-corner-all');\n",
       "\n",
       "        var tooltip_span = $('<span/>');\n",
       "        tooltip_span.addClass('ui-button-text');\n",
       "        tooltip_span.html(tooltip);\n",
       "\n",
       "        button.append(icon_img);\n",
       "        button.append(tooltip_span);\n",
       "\n",
       "        nav_element.append(button);\n",
       "    }\n",
       "\n",
       "    var fmt_picker_span = $('<span/>');\n",
       "\n",
       "    var fmt_picker = $('<select/>');\n",
       "    fmt_picker.addClass('mpl-toolbar-option ui-widget ui-widget-content');\n",
       "    fmt_picker_span.append(fmt_picker);\n",
       "    nav_element.append(fmt_picker_span);\n",
       "    this.format_dropdown = fmt_picker[0];\n",
       "\n",
       "    for (var ind in mpl.extensions) {\n",
       "        var fmt = mpl.extensions[ind];\n",
       "        var option = $(\n",
       "            '<option/>', {selected: fmt === mpl.default_extension}).html(fmt);\n",
       "        fmt_picker.append(option);\n",
       "    }\n",
       "\n",
       "    // Add hover states to the ui-buttons\n",
       "    $( \".ui-button\" ).hover(\n",
       "        function() { $(this).addClass(\"ui-state-hover\");},\n",
       "        function() { $(this).removeClass(\"ui-state-hover\");}\n",
       "    );\n",
       "\n",
       "    var status_bar = $('<span class=\"mpl-message\"/>');\n",
       "    nav_element.append(status_bar);\n",
       "    this.message = status_bar[0];\n",
       "}\n",
       "\n",
       "mpl.figure.prototype.request_resize = function(x_pixels, y_pixels) {\n",
       "    // Request matplotlib to resize the figure. Matplotlib will then trigger a resize in the client,\n",
       "    // which will in turn request a refresh of the image.\n",
       "    this.send_message('resize', {'width': x_pixels, 'height': y_pixels});\n",
       "}\n",
       "\n",
       "mpl.figure.prototype.send_message = function(type, properties) {\n",
       "    properties['type'] = type;\n",
       "    properties['figure_id'] = this.id;\n",
       "    this.ws.send(JSON.stringify(properties));\n",
       "}\n",
       "\n",
       "mpl.figure.prototype.send_draw_message = function() {\n",
       "    if (!this.waiting) {\n",
       "        this.waiting = true;\n",
       "        this.ws.send(JSON.stringify({type: \"draw\", figure_id: this.id}));\n",
       "    }\n",
       "}\n",
       "\n",
       "\n",
       "mpl.figure.prototype.handle_save = function(fig, msg) {\n",
       "    var format_dropdown = fig.format_dropdown;\n",
       "    var format = format_dropdown.options[format_dropdown.selectedIndex].value;\n",
       "    fig.ondownload(fig, format);\n",
       "}\n",
       "\n",
       "\n",
       "mpl.figure.prototype.handle_resize = function(fig, msg) {\n",
       "    var size = msg['size'];\n",
       "    if (size[0] != fig.canvas.width || size[1] != fig.canvas.height) {\n",
       "        fig._resize_canvas(size[0], size[1]);\n",
       "        fig.send_message(\"refresh\", {});\n",
       "    };\n",
       "}\n",
       "\n",
       "mpl.figure.prototype.handle_rubberband = function(fig, msg) {\n",
       "    var x0 = msg['x0'] / mpl.ratio;\n",
       "    var y0 = (fig.canvas.height - msg['y0']) / mpl.ratio;\n",
       "    var x1 = msg['x1'] / mpl.ratio;\n",
       "    var y1 = (fig.canvas.height - msg['y1']) / mpl.ratio;\n",
       "    x0 = Math.floor(x0) + 0.5;\n",
       "    y0 = Math.floor(y0) + 0.5;\n",
       "    x1 = Math.floor(x1) + 0.5;\n",
       "    y1 = Math.floor(y1) + 0.5;\n",
       "    var min_x = Math.min(x0, x1);\n",
       "    var min_y = Math.min(y0, y1);\n",
       "    var width = Math.abs(x1 - x0);\n",
       "    var height = Math.abs(y1 - y0);\n",
       "\n",
       "    fig.rubberband_context.clearRect(\n",
       "        0, 0, fig.canvas.width / mpl.ratio, fig.canvas.height / mpl.ratio);\n",
       "\n",
       "    fig.rubberband_context.strokeRect(min_x, min_y, width, height);\n",
       "}\n",
       "\n",
       "mpl.figure.prototype.handle_figure_label = function(fig, msg) {\n",
       "    // Updates the figure title.\n",
       "    fig.header.textContent = msg['label'];\n",
       "}\n",
       "\n",
       "mpl.figure.prototype.handle_cursor = function(fig, msg) {\n",
       "    var cursor = msg['cursor'];\n",
       "    switch(cursor)\n",
       "    {\n",
       "    case 0:\n",
       "        cursor = 'pointer';\n",
       "        break;\n",
       "    case 1:\n",
       "        cursor = 'default';\n",
       "        break;\n",
       "    case 2:\n",
       "        cursor = 'crosshair';\n",
       "        break;\n",
       "    case 3:\n",
       "        cursor = 'move';\n",
       "        break;\n",
       "    }\n",
       "    fig.rubberband_canvas.style.cursor = cursor;\n",
       "}\n",
       "\n",
       "mpl.figure.prototype.handle_message = function(fig, msg) {\n",
       "    fig.message.textContent = msg['message'];\n",
       "}\n",
       "\n",
       "mpl.figure.prototype.handle_draw = function(fig, msg) {\n",
       "    // Request the server to send over a new figure.\n",
       "    fig.send_draw_message();\n",
       "}\n",
       "\n",
       "mpl.figure.prototype.handle_image_mode = function(fig, msg) {\n",
       "    fig.image_mode = msg['mode'];\n",
       "}\n",
       "\n",
       "mpl.figure.prototype.updated_canvas_event = function() {\n",
       "    // Called whenever the canvas gets updated.\n",
       "    this.send_message(\"ack\", {});\n",
       "}\n",
       "\n",
       "// A function to construct a web socket function for onmessage handling.\n",
       "// Called in the figure constructor.\n",
       "mpl.figure.prototype._make_on_message_function = function(fig) {\n",
       "    return function socket_on_message(evt) {\n",
       "        if (evt.data instanceof Blob) {\n",
       "            /* FIXME: We get \"Resource interpreted as Image but\n",
       "             * transferred with MIME type text/plain:\" errors on\n",
       "             * Chrome.  But how to set the MIME type?  It doesn't seem\n",
       "             * to be part of the websocket stream */\n",
       "            evt.data.type = \"image/png\";\n",
       "\n",
       "            /* Free the memory for the previous frames */\n",
       "            if (fig.imageObj.src) {\n",
       "                (window.URL || window.webkitURL).revokeObjectURL(\n",
       "                    fig.imageObj.src);\n",
       "            }\n",
       "\n",
       "            fig.imageObj.src = (window.URL || window.webkitURL).createObjectURL(\n",
       "                evt.data);\n",
       "            fig.updated_canvas_event();\n",
       "            fig.waiting = false;\n",
       "            return;\n",
       "        }\n",
       "        else if (typeof evt.data === 'string' && evt.data.slice(0, 21) == \"data:image/png;base64\") {\n",
       "            fig.imageObj.src = evt.data;\n",
       "            fig.updated_canvas_event();\n",
       "            fig.waiting = false;\n",
       "            return;\n",
       "        }\n",
       "\n",
       "        var msg = JSON.parse(evt.data);\n",
       "        var msg_type = msg['type'];\n",
       "\n",
       "        // Call the  \"handle_{type}\" callback, which takes\n",
       "        // the figure and JSON message as its only arguments.\n",
       "        try {\n",
       "            var callback = fig[\"handle_\" + msg_type];\n",
       "        } catch (e) {\n",
       "            console.log(\"No handler for the '\" + msg_type + \"' message type: \", msg);\n",
       "            return;\n",
       "        }\n",
       "\n",
       "        if (callback) {\n",
       "            try {\n",
       "                // console.log(\"Handling '\" + msg_type + \"' message: \", msg);\n",
       "                callback(fig, msg);\n",
       "            } catch (e) {\n",
       "                console.log(\"Exception inside the 'handler_\" + msg_type + \"' callback:\", e, e.stack, msg);\n",
       "            }\n",
       "        }\n",
       "    };\n",
       "}\n",
       "\n",
       "// from http://stackoverflow.com/questions/1114465/getting-mouse-location-in-canvas\n",
       "mpl.findpos = function(e) {\n",
       "    //this section is from http://www.quirksmode.org/js/events_properties.html\n",
       "    var targ;\n",
       "    if (!e)\n",
       "        e = window.event;\n",
       "    if (e.target)\n",
       "        targ = e.target;\n",
       "    else if (e.srcElement)\n",
       "        targ = e.srcElement;\n",
       "    if (targ.nodeType == 3) // defeat Safari bug\n",
       "        targ = targ.parentNode;\n",
       "\n",
       "    // jQuery normalizes the pageX and pageY\n",
       "    // pageX,Y are the mouse positions relative to the document\n",
       "    // offset() returns the position of the element relative to the document\n",
       "    var x = e.pageX - $(targ).offset().left;\n",
       "    var y = e.pageY - $(targ).offset().top;\n",
       "\n",
       "    return {\"x\": x, \"y\": y};\n",
       "};\n",
       "\n",
       "/*\n",
       " * return a copy of an object with only non-object keys\n",
       " * we need this to avoid circular references\n",
       " * http://stackoverflow.com/a/24161582/3208463\n",
       " */\n",
       "function simpleKeys (original) {\n",
       "  return Object.keys(original).reduce(function (obj, key) {\n",
       "    if (typeof original[key] !== 'object')\n",
       "        obj[key] = original[key]\n",
       "    return obj;\n",
       "  }, {});\n",
       "}\n",
       "\n",
       "mpl.figure.prototype.mouse_event = function(event, name) {\n",
       "    var canvas_pos = mpl.findpos(event)\n",
       "\n",
       "    if (name === 'button_press')\n",
       "    {\n",
       "        this.canvas.focus();\n",
       "        this.canvas_div.focus();\n",
       "    }\n",
       "\n",
       "    var x = canvas_pos.x * mpl.ratio;\n",
       "    var y = canvas_pos.y * mpl.ratio;\n",
       "\n",
       "    this.send_message(name, {x: x, y: y, button: event.button,\n",
       "                             step: event.step,\n",
       "                             guiEvent: simpleKeys(event)});\n",
       "\n",
       "    /* This prevents the web browser from automatically changing to\n",
       "     * the text insertion cursor when the button is pressed.  We want\n",
       "     * to control all of the cursor setting manually through the\n",
       "     * 'cursor' event from matplotlib */\n",
       "    event.preventDefault();\n",
       "    return false;\n",
       "}\n",
       "\n",
       "mpl.figure.prototype._key_event_extra = function(event, name) {\n",
       "    // Handle any extra behaviour associated with a key event\n",
       "}\n",
       "\n",
       "mpl.figure.prototype.key_event = function(event, name) {\n",
       "\n",
       "    // Prevent repeat events\n",
       "    if (name == 'key_press')\n",
       "    {\n",
       "        if (event.which === this._key)\n",
       "            return;\n",
       "        else\n",
       "            this._key = event.which;\n",
       "    }\n",
       "    if (name == 'key_release')\n",
       "        this._key = null;\n",
       "\n",
       "    var value = '';\n",
       "    if (event.ctrlKey && event.which != 17)\n",
       "        value += \"ctrl+\";\n",
       "    if (event.altKey && event.which != 18)\n",
       "        value += \"alt+\";\n",
       "    if (event.shiftKey && event.which != 16)\n",
       "        value += \"shift+\";\n",
       "\n",
       "    value += 'k';\n",
       "    value += event.which.toString();\n",
       "\n",
       "    this._key_event_extra(event, name);\n",
       "\n",
       "    this.send_message(name, {key: value,\n",
       "                             guiEvent: simpleKeys(event)});\n",
       "    return false;\n",
       "}\n",
       "\n",
       "mpl.figure.prototype.toolbar_button_onclick = function(name) {\n",
       "    if (name == 'download') {\n",
       "        this.handle_save(this, null);\n",
       "    } else {\n",
       "        this.send_message(\"toolbar_button\", {name: name});\n",
       "    }\n",
       "};\n",
       "\n",
       "mpl.figure.prototype.toolbar_button_onmouseover = function(tooltip) {\n",
       "    this.message.textContent = tooltip;\n",
       "};\n",
       "mpl.toolbar_items = [[\"Home\", \"Reset original view\", \"fa fa-home icon-home\", \"home\"], [\"Back\", \"Back to previous view\", \"fa fa-arrow-left icon-arrow-left\", \"back\"], [\"Forward\", \"Forward to next view\", \"fa fa-arrow-right icon-arrow-right\", \"forward\"], [\"\", \"\", \"\", \"\"], [\"Pan\", \"Pan axes with left mouse, zoom with right\", \"fa fa-arrows icon-move\", \"pan\"], [\"Zoom\", \"Zoom to rectangle\", \"fa fa-square-o icon-check-empty\", \"zoom\"], [\"\", \"\", \"\", \"\"], [\"Download\", \"Download plot\", \"fa fa-floppy-o icon-save\", \"download\"]];\n",
       "\n",
       "mpl.extensions = [\"eps\", \"jpeg\", \"pdf\", \"png\", \"ps\", \"raw\", \"svg\", \"tif\"];\n",
       "\n",
       "mpl.default_extension = \"png\";var comm_websocket_adapter = function(comm) {\n",
       "    // Create a \"websocket\"-like object which calls the given IPython comm\n",
       "    // object with the appropriate methods. Currently this is a non binary\n",
       "    // socket, so there is still some room for performance tuning.\n",
       "    var ws = {};\n",
       "\n",
       "    ws.close = function() {\n",
       "        comm.close()\n",
       "    };\n",
       "    ws.send = function(m) {\n",
       "        //console.log('sending', m);\n",
       "        comm.send(m);\n",
       "    };\n",
       "    // Register the callback with on_msg.\n",
       "    comm.on_msg(function(msg) {\n",
       "        //console.log('receiving', msg['content']['data'], msg);\n",
       "        // Pass the mpl event to the overridden (by mpl) onmessage function.\n",
       "        ws.onmessage(msg['content']['data'])\n",
       "    });\n",
       "    return ws;\n",
       "}\n",
       "\n",
       "mpl.mpl_figure_comm = function(comm, msg) {\n",
       "    // This is the function which gets called when the mpl process\n",
       "    // starts-up an IPython Comm through the \"matplotlib\" channel.\n",
       "\n",
       "    var id = msg.content.data.id;\n",
       "    // Get hold of the div created by the display call when the Comm\n",
       "    // socket was opened in Python.\n",
       "    var element = $(\"#\" + id);\n",
       "    var ws_proxy = comm_websocket_adapter(comm)\n",
       "\n",
       "    function ondownload(figure, format) {\n",
       "        window.open(figure.imageObj.src);\n",
       "    }\n",
       "\n",
       "    var fig = new mpl.figure(id, ws_proxy,\n",
       "                           ondownload,\n",
       "                           element.get(0));\n",
       "\n",
       "    // Call onopen now - mpl needs it, as it is assuming we've passed it a real\n",
       "    // web socket which is closed, not our websocket->open comm proxy.\n",
       "    ws_proxy.onopen();\n",
       "\n",
       "    fig.parent_element = element.get(0);\n",
       "    fig.cell_info = mpl.find_output_cell(\"<div id='\" + id + \"'></div>\");\n",
       "    if (!fig.cell_info) {\n",
       "        console.error(\"Failed to find cell for figure\", id, fig);\n",
       "        return;\n",
       "    }\n",
       "\n",
       "    var output_index = fig.cell_info[2]\n",
       "    var cell = fig.cell_info[0];\n",
       "\n",
       "};\n",
       "\n",
       "mpl.figure.prototype.handle_close = function(fig, msg) {\n",
       "    var width = fig.canvas.width/mpl.ratio\n",
       "    fig.root.unbind('remove')\n",
       "\n",
       "    // Update the output cell to use the data from the current canvas.\n",
       "    fig.push_to_output();\n",
       "    var dataURL = fig.canvas.toDataURL();\n",
       "    // Re-enable the keyboard manager in IPython - without this line, in FF,\n",
       "    // the notebook keyboard shortcuts fail.\n",
       "    IPython.keyboard_manager.enable()\n",
       "    $(fig.parent_element).html('<img src=\"' + dataURL + '\" width=\"' + width + '\">');\n",
       "    fig.close_ws(fig, msg);\n",
       "}\n",
       "\n",
       "mpl.figure.prototype.close_ws = function(fig, msg){\n",
       "    fig.send_message('closing', msg);\n",
       "    // fig.ws.close()\n",
       "}\n",
       "\n",
       "mpl.figure.prototype.push_to_output = function(remove_interactive) {\n",
       "    // Turn the data on the canvas into data in the output cell.\n",
       "    var width = this.canvas.width/mpl.ratio\n",
       "    var dataURL = this.canvas.toDataURL();\n",
       "    this.cell_info[1]['text/html'] = '<img src=\"' + dataURL + '\" width=\"' + width + '\">';\n",
       "}\n",
       "\n",
       "mpl.figure.prototype.updated_canvas_event = function() {\n",
       "    // Tell IPython that the notebook contents must change.\n",
       "    IPython.notebook.set_dirty(true);\n",
       "    this.send_message(\"ack\", {});\n",
       "    var fig = this;\n",
       "    // Wait a second, then push the new image to the DOM so\n",
       "    // that it is saved nicely (might be nice to debounce this).\n",
       "    setTimeout(function () { fig.push_to_output() }, 1000);\n",
       "}\n",
       "\n",
       "mpl.figure.prototype._init_toolbar = function() {\n",
       "    var fig = this;\n",
       "\n",
       "    var nav_element = $('<div/>');\n",
       "    nav_element.attr('style', 'width: 100%');\n",
       "    this.root.append(nav_element);\n",
       "\n",
       "    // Define a callback function for later on.\n",
       "    function toolbar_event(event) {\n",
       "        return fig.toolbar_button_onclick(event['data']);\n",
       "    }\n",
       "    function toolbar_mouse_event(event) {\n",
       "        return fig.toolbar_button_onmouseover(event['data']);\n",
       "    }\n",
       "\n",
       "    for(var toolbar_ind in mpl.toolbar_items){\n",
       "        var name = mpl.toolbar_items[toolbar_ind][0];\n",
       "        var tooltip = mpl.toolbar_items[toolbar_ind][1];\n",
       "        var image = mpl.toolbar_items[toolbar_ind][2];\n",
       "        var method_name = mpl.toolbar_items[toolbar_ind][3];\n",
       "\n",
       "        if (!name) { continue; };\n",
       "\n",
       "        var button = $('<button class=\"btn btn-default\" href=\"#\" title=\"' + name + '\"><i class=\"fa ' + image + ' fa-lg\"></i></button>');\n",
       "        button.click(method_name, toolbar_event);\n",
       "        button.mouseover(tooltip, toolbar_mouse_event);\n",
       "        nav_element.append(button);\n",
       "    }\n",
       "\n",
       "    // Add the status bar.\n",
       "    var status_bar = $('<span class=\"mpl-message\" style=\"text-align:right; float: right;\"/>');\n",
       "    nav_element.append(status_bar);\n",
       "    this.message = status_bar[0];\n",
       "\n",
       "    // Add the close button to the window.\n",
       "    var buttongrp = $('<div class=\"btn-group inline pull-right\"></div>');\n",
       "    var button = $('<button class=\"btn btn-mini btn-primary\" href=\"#\" title=\"Stop Interaction\"><i class=\"fa fa-power-off icon-remove icon-large\"></i></button>');\n",
       "    button.click(function (evt) { fig.handle_close(fig, {}); } );\n",
       "    button.mouseover('Stop Interaction', toolbar_mouse_event);\n",
       "    buttongrp.append(button);\n",
       "    var titlebar = this.root.find($('.ui-dialog-titlebar'));\n",
       "    titlebar.prepend(buttongrp);\n",
       "}\n",
       "\n",
       "mpl.figure.prototype._root_extra_style = function(el){\n",
       "    var fig = this\n",
       "    el.on(\"remove\", function(){\n",
       "\tfig.close_ws(fig, {});\n",
       "    });\n",
       "}\n",
       "\n",
       "mpl.figure.prototype._canvas_extra_style = function(el){\n",
       "    // this is important to make the div 'focusable\n",
       "    el.attr('tabindex', 0)\n",
       "    // reach out to IPython and tell the keyboard manager to turn it's self\n",
       "    // off when our div gets focus\n",
       "\n",
       "    // location in version 3\n",
       "    if (IPython.notebook.keyboard_manager) {\n",
       "        IPython.notebook.keyboard_manager.register_events(el);\n",
       "    }\n",
       "    else {\n",
       "        // location in version 2\n",
       "        IPython.keyboard_manager.register_events(el);\n",
       "    }\n",
       "\n",
       "}\n",
       "\n",
       "mpl.figure.prototype._key_event_extra = function(event, name) {\n",
       "    var manager = IPython.notebook.keyboard_manager;\n",
       "    if (!manager)\n",
       "        manager = IPython.keyboard_manager;\n",
       "\n",
       "    // Check for shift+enter\n",
       "    if (event.shiftKey && event.which == 13) {\n",
       "        this.canvas_div.blur();\n",
       "        event.shiftKey = false;\n",
       "        // Send a \"J\" for go to next cell\n",
       "        event.which = 74;\n",
       "        event.keyCode = 74;\n",
       "        manager.command_mode();\n",
       "        manager.handle_keydown(event);\n",
       "    }\n",
       "}\n",
       "\n",
       "mpl.figure.prototype.handle_save = function(fig, msg) {\n",
       "    fig.ondownload(fig, null);\n",
       "}\n",
       "\n",
       "\n",
       "mpl.find_output_cell = function(html_output) {\n",
       "    // Return the cell and output element which can be found *uniquely* in the notebook.\n",
       "    // Note - this is a bit hacky, but it is done because the \"notebook_saving.Notebook\"\n",
       "    // IPython event is triggered only after the cells have been serialised, which for\n",
       "    // our purposes (turning an active figure into a static one), is too late.\n",
       "    var cells = IPython.notebook.get_cells();\n",
       "    var ncells = cells.length;\n",
       "    for (var i=0; i<ncells; i++) {\n",
       "        var cell = cells[i];\n",
       "        if (cell.cell_type === 'code'){\n",
       "            for (var j=0; j<cell.output_area.outputs.length; j++) {\n",
       "                var data = cell.output_area.outputs[j];\n",
       "                if (data.data) {\n",
       "                    // IPython >= 3 moved mimebundle to data attribute of output\n",
       "                    data = data.data;\n",
       "                }\n",
       "                if (data['text/html'] == html_output) {\n",
       "                    return [cell, data, j];\n",
       "                }\n",
       "            }\n",
       "        }\n",
       "    }\n",
       "}\n",
       "\n",
       "// Register the function which deals with the matplotlib target/channel.\n",
       "// The kernel may be null if the page has been refreshed.\n",
       "if (IPython.notebook.kernel != null) {\n",
       "    IPython.notebook.kernel.comm_manager.register_target('matplotlib', mpl.mpl_figure_comm);\n",
       "}\n"
      ],
      "text/plain": [
       "<IPython.core.display.Javascript object>"
      ]
     },
     "metadata": {},
     "output_type": "display_data"
    },
    {
     "data": {
      "text/html": [
       "<img src=\"data:image/png;base64,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\" width=\"639.65\">"
      ],
      "text/plain": [
       "<IPython.core.display.HTML object>"
      ]
     },
     "metadata": {},
     "output_type": "display_data"
    }
   ],
   "source": [
    "learner.recorder.plot_lr()"
   ]
  },
  {
   "cell_type": "code",
   "execution_count": 99,
   "metadata": {},
   "outputs": [
    {
     "data": {
      "text/plain": [
       "0.21731910109519958"
      ]
     },
     "execution_count": 99,
     "metadata": {},
     "output_type": "execute_result"
    }
   ],
   "source": [
    "model.similarity('boy', 'ball')"
   ]
  },
  {
   "cell_type": "code",
   "execution_count": 100,
   "metadata": {},
   "outputs": [
    {
     "data": {
      "text/plain": [
       "[('king', 1.0000001192092896),\n",
       " ('john', 0.4266761243343353),\n",
       " ('performance', 0.35185688734054565),\n",
       " ('name', 0.3482334315776825),\n",
       " ('said', 0.34571969509124756),\n",
       " ('[', 0.3386051058769226),\n",
       " (']', 0.3293631076812744),\n",
       " ('commander', 0.3212742805480957),\n",
       " ('them', 0.30777737498283386),\n",
       " ('identity', 0.30753302574157715)]"
      ]
     },
     "execution_count": 100,
     "metadata": {},
     "output_type": "execute_result"
    }
   ],
   "source": [
    "model.most_similar('king')"
   ]
  },
  {
   "cell_type": "code",
   "execution_count": 101,
   "metadata": {},
   "outputs": [
    {
     "data": {
      "text/plain": [
       "[('queen', 0.9999998807907104),\n",
       " ('bee', 0.5193594694137573),\n",
       " ('m.', 0.5018128752708435),\n",
       " ('tent', 0.500006377696991),\n",
       " ('martyn', 0.49908432364463806),\n",
       " ('james', 0.4908437728881836),\n",
       " ('vanessa', 0.48846957087516785),\n",
       " ('protagonists', 0.4837687313556671),\n",
       " ('loaves', 0.4830157160758972),\n",
       " ('informed', 0.4794425964355469)]"
      ]
     },
     "execution_count": 101,
     "metadata": {},
     "output_type": "execute_result"
    }
   ],
   "source": [
    "model.most_similar('queen')"
   ]
  },
  {
   "cell_type": "code",
   "execution_count": 102,
   "metadata": {},
   "outputs": [
    {
     "data": {
      "text/plain": [
       "[('girl', 0.9999999403953552),\n",
       " ('abbey', 0.4492078125476837),\n",
       " ('ode', 0.3930973708629608),\n",
       " ('purposes', 0.3854275345802307),\n",
       " ('mbar', 0.3840567171573639),\n",
       " ('percussion', 0.3809777498245239),\n",
       " ('gardner', 0.3771360218524933),\n",
       " ('standard', 0.37641000747680664),\n",
       " ('lennon', 0.37591618299484253),\n",
       " ('carey', 0.37497857213020325)]"
      ]
     },
     "execution_count": 102,
     "metadata": {},
     "output_type": "execute_result"
    }
   ],
   "source": [
    "model.most_similar('girl')"
   ]
  },
  {
   "cell_type": "code",
   "execution_count": 103,
   "metadata": {},
   "outputs": [
    {
     "data": {
      "text/plain": [
       "[('boy', 1.0),\n",
       " ('〈', 0.43975332379341125),\n",
       " ('basketball', 0.43798619508743286),\n",
       " ('leagues', 0.43255743384361267),\n",
       " ('singh', 0.43213191628456116),\n",
       " ('sequences', 0.4234887957572937),\n",
       " ('therapy', 0.4224964380264282),\n",
       " (\"'brien\", 0.4092724323272705),\n",
       " ('lock', 0.40675291419029236),\n",
       " ('foster', 0.40299054980278015)]"
      ]
     },
     "execution_count": 103,
     "metadata": {},
     "output_type": "execute_result"
    }
   ],
   "source": [
    "model.most_similar('boy')"
   ]
  },
  {
   "cell_type": "code",
   "execution_count": 104,
   "metadata": {},
   "outputs": [
    {
     "data": {
      "text/plain": [
       "[('woman', 0.0035385049413889647),\n",
       " ('boy', 0.003325660480186343),\n",
       " ('brigade', 0.002665393054485321),\n",
       " ('3rd', 0.002409640233963728),\n",
       " ('basketball', 0.002380924765020609)]"
      ]
     },
     "execution_count": 104,
     "metadata": {},
     "output_type": "execute_result"
    }
   ],
   "source": [
    "model.analogy('boy', 'man', 'woman')"
   ]
  },
  {
   "cell_type": "markdown",
   "metadata": {},
   "source": [
    "### Pretrained glove"
   ]
  },
  {
   "cell_type": "code",
   "execution_count": 60,
   "metadata": {},
   "outputs": [
    {
     "data": {
      "application/vnd.jupyter.widget-view+json": {
       "model_id": "03ba5c2e3154461e999fe0442e948107",
       "version_major": 2,
       "version_minor": 0
      },
      "text/plain": [
       "HBox(children=(IntProgress(value=1, bar_style='info', max=1), HTML(value='')))"
      ]
     },
     "metadata": {},
     "output_type": "display_data"
    },
    {
     "name": "stdout",
     "output_type": "stream",
     "text": [
      "\n"
     ]
    }
   ],
   "source": [
    "tokens, W = load_glove('data/glove/glove.6B.100d.txt')\n",
    "glove_vocab = Vocab(tokens, add_specials=False)"
   ]
  },
  {
   "cell_type": "code",
   "execution_count": 61,
   "metadata": {},
   "outputs": [],
   "source": [
    "glove = Glove(glove_vocab, W.size(1))"
   ]
  },
  {
   "cell_type": "code",
   "execution_count": 62,
   "metadata": {},
   "outputs": [
    {
     "data": {
      "text/plain": [
       "[('king', 0.9999998807907104),\n",
       " ('presov', 0.47020792961120605),\n",
       " ('diniyar', 0.4319826066493988),\n",
       " ('xiqing', 0.42202600836753845),\n",
       " ('43-year-old', 0.4142630994319916),\n",
       " ('119.36', 0.41008949279785156),\n",
       " ('step-father', 0.4088504910469055),\n",
       " ('cryptogram', 0.407711386680603),\n",
       " ('masnadieri', 0.39987653493881226),\n",
       " ('218', 0.39969319105148315)]"
      ]
     },
     "execution_count": 62,
     "metadata": {},
     "output_type": "execute_result"
    }
   ],
   "source": [
    "glove.most_similar('king')"
   ]
  },
  {
   "cell_type": "code",
   "execution_count": 63,
   "metadata": {},
   "outputs": [
    {
     "data": {
      "text/plain": [
       "[('queen', 1.0000001192092896),\n",
       " ('1.446', 0.475906103849411),\n",
       " ('manber', 0.4549559950828552),\n",
       " ('oakmont', 0.42867404222488403),\n",
       " ('prichard', 0.42549237608909607),\n",
       " ('winterfest', 0.41983669996261597),\n",
       " ('nyala', 0.41780614852905273),\n",
       " ('slowdown', 0.40534621477127075),\n",
       " ('carroll', 0.39995071291923523),\n",
       " ('nebraskan', 0.39841365814208984)]"
      ]
     },
     "execution_count": 63,
     "metadata": {},
     "output_type": "execute_result"
    }
   ],
   "source": [
    "glove.most_similar('queen')"
   ]
  },
  {
   "cell_type": "code",
   "execution_count": 64,
   "metadata": {},
   "outputs": [
    {
     "data": {
      "text/plain": [
       "[('girl', 0.9999997019767761),\n",
       " ('satine', 0.46418696641921997),\n",
       " ('woodgrain', 0.43411779403686523),\n",
       " ('pocho', 0.4268955886363983),\n",
       " ('euroatlantic', 0.42448511719703674),\n",
       " ('gerashchenko', 0.42178109288215637),\n",
       " ('hamate', 0.4123415946960449),\n",
       " ('non-chalcedonian', 0.4062996208667755),\n",
       " ('rachis', 0.401823490858078),\n",
       " ('kaneto', 0.4004417061805725)]"
      ]
     },
     "execution_count": 64,
     "metadata": {},
     "output_type": "execute_result"
    }
   ],
   "source": [
    "glove.most_similar('girl')"
   ]
  },
  {
   "cell_type": "code",
   "execution_count": 65,
   "metadata": {},
   "outputs": [
    {
     "data": {
      "text/plain": [
       "[('boy', 0.9999999403953552),\n",
       " ('nordbaden', 0.4301069378852844),\n",
       " ('tring', 0.42962849140167236),\n",
       " ('hopefuls', 0.42075690627098083),\n",
       " ('sainte-victoire', 0.41124171018600464),\n",
       " ('warnecke', 0.40438613295555115),\n",
       " ('cherri', 0.39648669958114624),\n",
       " ('bloor', 0.39353007078170776),\n",
       " ('aldrich', 0.3854254484176636),\n",
       " ('vlaardingen', 0.38521912693977356)]"
      ]
     },
     "execution_count": 65,
     "metadata": {},
     "output_type": "execute_result"
    }
   ],
   "source": [
    "glove.most_similar('boy')"
   ]
  },
  {
   "cell_type": "code",
   "execution_count": 66,
   "metadata": {},
   "outputs": [
    {
     "data": {
      "text/plain": [
       "[('man', 0.0011205320479348302),\n",
       " ('king', 0.0008881384273990989),\n",
       " ('manganate', 0.0007245009182952344),\n",
       " ('dummerston', 0.0006804452277719975),\n",
       " ('seracini', 0.0006758874515071511)]"
      ]
     },
     "execution_count": 66,
     "metadata": {},
     "output_type": "execute_result"
    }
   ],
   "source": [
    "glove.analogy('king', 'queen', 'man')"
   ]
  },
  {
   "cell_type": "code",
   "execution_count": 73,
   "metadata": {},
   "outputs": [
    {
     "data": {
      "text/plain": [
       "tensor(0.0293, grad_fn=<NormBackward0>)"
      ]
     },
     "execution_count": 73,
     "metadata": {},
     "output_type": "execute_result"
    }
   ],
   "source": [
    "torch.norm(glove[''])"
   ]
  },
  {
   "cell_type": "code",
   "execution_count": null,
   "metadata": {},
   "outputs": [],
   "source": []
  }
 ],
 "metadata": {
  "kernelspec": {
   "display_name": "Python 3",
   "language": "python",
   "name": "python3"
  },
  "language_info": {
   "codemirror_mode": {
    "name": "ipython",
    "version": 3
   },
   "file_extension": ".py",
   "mimetype": "text/x-python",
   "name": "python",
   "nbconvert_exporter": "python",
   "pygments_lexer": "ipython3",
   "version": "3.7.5"
  }
 },
 "nbformat": 4,
 "nbformat_minor": 2
}
