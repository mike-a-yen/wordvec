{
 "cells": [
  {
   "cell_type": "code",
   "execution_count": 1,
   "metadata": {},
   "outputs": [],
   "source": [
    "from collections import Counter, defaultdict\n",
    "import concurrent.futures\n",
    "from concurrent.futures import ThreadPoolExecutor\n",
    "import itertools\n",
    "import math\n",
    "from pathlib import Path\n",
    "from typing import List, Tuple, Union\n",
    "\n",
    "from jupyterthemes import jtplot\n",
    "import matplotlib.pyplot as plt\n",
    "import numpy as np\n",
    "import pandas as pd\n",
    "import scipy\n",
    "from tqdm import tqdm\n",
    "\n",
    "import torch\n",
    "import torch.nn as nn\n",
    "import torch.nn.functional as F\n",
    "import torch.optim as optim\n",
    "import torch.utils as utils\n",
    "\n",
    "from fastai.basic_data import DataBunch\n",
    "from fastai.basic_train import Learner\n",
    "from fastai.train import lr_find\n",
    "from fastprogress import progress_bar\n",
    "\n",
    "from utils import download_wikitext, prepare_data, load_glove\n",
    "from nn_toolkit.vocab import Vocab, VocabEncoder\n",
    "\n",
    "jtplot.style()\n",
    "%load_ext autoreload\n",
    "%matplotlib notebook\n",
    "%autoreload 2"
   ]
  },
  {
   "cell_type": "markdown",
   "metadata": {
    "heading_collapsed": true
   },
   "source": [
    "### Cooccurence Matrix"
   ]
  },
  {
   "cell_type": "code",
   "execution_count": 2,
   "metadata": {
    "hidden": true
   },
   "outputs": [],
   "source": [
    "class Cooccurence:\n",
    "    def __init__(self, vocab: Vocab, window: int, distance_mode: str, num_workers: int) -> None:\n",
    "        self.vocab = vocab\n",
    "        self.window = window\n",
    "        self.distance_mode = distance_mode\n",
    "        self.counts = defaultdict(lambda: defaultdict(float))\n",
    "        self.num_workers = num_workers\n",
    "        \n",
    "    def dict_to_df(self):\n",
    "        data = []\n",
    "        for token1, token_counts in self.counts.items():\n",
    "            for token2, count in token_counts.items():\n",
    "                data.append({'token1': token1, 'token2': token2, 'count': count})\n",
    "        df = pd.DataFrame(data)\n",
    "        index = pd.MultiIndex.from_frame(df[['token1', 'token2']])\n",
    "        return pd.DataFrame(df['count'].values, index=index, columns=['count'])\n",
    "\n",
    "    def update(self, documents: List[List[str]]) -> None:\n",
    "        with ThreadPoolExecutor(max_workers=self.num_workers) as executor:\n",
    "            futures = [executor.submit(self.add_doc, doc) for doc in documents]\n",
    "            pbar = progress_bar(concurrent.futures.as_completed(futures), total=len(documents))\n",
    "            for f in pbar:\n",
    "                f.result()\n",
    "\n",
    "    def add_doc(self, doc: List[str]) -> None:\n",
    "        idx = 0\n",
    "        while idx < len(doc):\n",
    "            left = self.get_left_context(doc, idx)\n",
    "            right = self.get_right_context(doc, idx)\n",
    "            self.add_context(left, doc[idx], 'left')\n",
    "            self.add_context(right, doc[idx], 'right')\n",
    "            idx += 1\n",
    "            assert len(self.counts) <= self.vocab.size\n",
    "\n",
    "    def add_context(self, context: List[str], target: str, mode: str) -> None:\n",
    "        if target not in self.vocab: target = '<unk>'\n",
    "        for i, token in enumerate(context):\n",
    "            if token not in self.vocab: token = '<unk>'\n",
    "            d = (i + 1) if mode == 'right' else (self.window - i)\n",
    "            self.counts[target][token] += self.distance_weight(d)\n",
    "        return\n",
    "\n",
    "    def get_right_context(self, doc: List[str], idx: int) -> List[str]:\n",
    "        right_edge = min(len(doc), idx+self.window+1)\n",
    "        right = doc[idx+1: right_edge]\n",
    "        return right\n",
    "\n",
    "    def get_left_context(self, doc: List[str], idx: int) -> List[str]:\n",
    "        left_edge = max(0, idx-self.window)\n",
    "        left = doc[left_edge: idx]\n",
    "        return left\n",
    "\n",
    "    def distance_weight(self, d: int):\n",
    "        if self.distance_mode == 'inverse':\n",
    "            return 1. / d\n",
    "        return 1.\n",
    "\n",
    "    def _get_from_str(self, key: str):\n",
    "        return self.counts[key]\n",
    "\n",
    "    def _get_from_int(self, key: int):\n",
    "        key = self.vocab.int_to_token[key]\n",
    "        return self._get_from_str(key)\n",
    "\n",
    "    def __getitem__(self, key: Union[str, int]):\n",
    "        if isinstance(key, int):\n",
    "            return self._get_from_int(key)\n",
    "        elif isinstance(key, str):\n",
    "            return self._get_from_str(key)\n",
    "        else:\n",
    "            t = type(key)\n",
    "            raise TypeError(f\"Can not look up using type {t}\")\n",
    "            \n",
    "    def get_sparse_Xij(self) -> torch.sparse.FloatTensor:\n",
    "        rows = []\n",
    "        cols = []\n",
    "        vals = []\n",
    "        for token1, count_dict in self.counts.items():\n",
    "            for token2, v in count_dict.items():\n",
    "                row, col = self.vocab[token1], self.vocab[token2]\n",
    "                vals.append(v)\n",
    "                rows.append(row)\n",
    "                cols.append(col)\n",
    "        assert len(rows) == len(cols)\n",
    "        i = torch.tensor(list(zip(rows, cols))).t()\n",
    "        vals = torch.tensor(vals)\n",
    "        size = torch.Size([self.vocab.size, self.vocab.size])\n",
    "        Xij = torch.sparse.FloatTensor(i, vals, size)\n",
    "        return Xij"
   ]
  },
  {
   "cell_type": "markdown",
   "metadata": {
    "heading_collapsed": true
   },
   "source": [
    "### Dataset"
   ]
  },
  {
   "cell_type": "code",
   "execution_count": 3,
   "metadata": {
    "hidden": true
   },
   "outputs": [],
   "source": [
    "def softmax(x, dim=-1):\n",
    "    b = x.max(dim)\n",
    "    y = x - b\n",
    "    return y / y.sum(dim)\n",
    "\n",
    "\n",
    "class CooDataset(utils.data.Dataset):\n",
    "    def __init__(self, coo: Cooccurence) -> None:\n",
    "        self.coo = coo\n",
    "        self.Xij = coo.dict_to_df()\n",
    "        self.vocab = coo.vocab\n",
    "\n",
    "    def __getitem__(self, idx: int):\n",
    "        sample = self.Xij.iloc[idx]\n",
    "        t1, t2 = sample.name\n",
    "        i, j = self.vocab[t1], self.vocab[t2]\n",
    "        xij = sample['count']\n",
    "        return i, j, xij\n",
    "\n",
    "    def __len__(self):\n",
    "        return self.Xij.shape[0]\n",
    "\n",
    "def collate_batch(batch) -> Tuple[torch.Tensor]:\n",
    "    i = torch.LongTensor([sample[0] for sample in batch])  # (B,)\n",
    "    j = torch.LongTensor([sample[1] for sample in batch])  # (B,)\n",
    "    Xij = torch.FloatTensor([sample[-1] for sample in batch])  # (B,)\n",
    "    return (i, j), Xij"
   ]
  },
  {
   "cell_type": "markdown",
   "metadata": {},
   "source": [
    "### Model"
   ]
  },
  {
   "cell_type": "code",
   "execution_count": 74,
   "metadata": {
    "code_folding": [
     60
    ]
   },
   "outputs": [],
   "source": [
    "class Glove(nn.Module):\n",
    "    def __init__(self, vocab: Vocab, embedding_dim: int) -> None:\n",
    "        super().__init__()\n",
    "        self.vocab = vocab\n",
    "        self.embedding_dim = embedding_dim\n",
    "        lim = embedding_dim\n",
    "        self.W = nn.Parameter(self._W_init())\n",
    "        self.Wt = nn.Parameter(self._W_init())\n",
    "        self.b = nn.Parameter(self._b_init())\n",
    "        self.bt = nn.Parameter(self._b_init())\n",
    "\n",
    "    def forward(self, i: torch.LongTensor, j: torch.LongTensor) -> torch.Tensor:\n",
    "        wi = F.embedding(i, self.W, padding_idx=self.vocab.pad_index)  # (N, e)\n",
    "        bi = F.embedding(i, self.b, padding_idx=self.vocab.pad_index).squeeze()  # (N,)\n",
    "        wj = F.embedding(j, self.Wt, padding_idx=self.vocab.pad_index)  # (N, e)\n",
    "        bj = F.embedding(j, self.bt, padding_idx=self.vocab.pad_index).squeeze()  # (N,)\n",
    "\n",
    "        dot = (wi * wj).sum(1)  # (N,)\n",
    "        p = dot + bi + bj\n",
    "        return p\n",
    "\n",
    "    def _W_init(self) -> torch.Tensor:\n",
    "        size = [self.vocab.size, self.embedding_dim]\n",
    "        W = torch.empty(*size).uniform_() - 0.5\n",
    "        W = W / math.sqrt(self.embedding_dim)\n",
    "        return W\n",
    "\n",
    "    def _b_init(self) -> torch.Tensor:\n",
    "        size = [self.vocab.size, 1]\n",
    "        b = torch.empty(*size).uniform_() - 0.5\n",
    "        b = b / math.sqrt(self.embedding_dim)\n",
    "        return b\n",
    "\n",
    "    def __getitem__(self, token: str):\n",
    "        idx = self.vocab[token]\n",
    "        return self.W[idx]\n",
    "\n",
    "    def similarity(self, token1: str, token2: str) -> float:\n",
    "        with torch.no_grad():\n",
    "            vec1 = self[token1]\n",
    "            vec2 = self[token2]\n",
    "            norm = torch.norm(vec1) * torch.norm(vec2)\n",
    "            dot = (vec1 * vec2).sum() / norm\n",
    "        return dot.item()\n",
    "    \n",
    "    def analogy(self, token1: str, token2: str, token3: str, k: int = 5) -> str:\n",
    "        with torch.no_grad():\n",
    "            vec1 = self[token1]\n",
    "            vec2 = self[token2]\n",
    "            vec3 = self[token3]\n",
    "            diff = vec1 - vec2 + vec3\n",
    "            diff_norm = diff / torch.norm(diff)\n",
    "            similarity  = self.W @ diff_norm / torch.norm(self.W)\n",
    "            topk = torch.topk(similarity, k)\n",
    "            idx = topk.indices.tolist()[0:k]\n",
    "            vals = topk.values.tolist()[0:k]\n",
    "        words = [self.vocab.get(i, reverse=True) for i in idx]\n",
    "        return list(zip(words, vals))\n",
    "\n",
    "    def most_similar(self, token: str, k: int = 10) -> List[Tuple[str, float]]:\n",
    "        with torch.no_grad():\n",
    "            vec = self[token].unsqueeze(0)  # (1, e)\n",
    "            dot = (vec @ self.W.t()).squeeze()  # (N, )\n",
    "            norm = torch.norm(vec, dim=1) * torch.norm(self.W, dim=1)\n",
    "            norm = torch.clamp(norm, 1e-9, float('inf'))\n",
    "            similarity = dot / norm\n",
    "            topk = torch.topk(similarity, k)\n",
    "        idxs = topk.indices.tolist()[0:k]\n",
    "        vals = topk.values.tolist()[0:k]\n",
    "        words = [self.vocab.get(i, reverse=True) for i in idxs]\n",
    "        return list(zip(words, vals))"
   ]
  },
  {
   "cell_type": "markdown",
   "metadata": {
    "heading_collapsed": true
   },
   "source": [
    "#### Loss"
   ]
  },
  {
   "cell_type": "code",
   "execution_count": 5,
   "metadata": {
    "hidden": true
   },
   "outputs": [],
   "source": [
    "class GloveLoss(nn.modules.loss._Loss):\n",
    "    \"\"\"\n",
    "    Weighted MSE summed, not averaged, over the vocabulary.\n",
    "    \n",
    "    Defaults are set to values in the paper.\n",
    "    https://github.com/stanfordnlp/GloVe/blob/master/src/glove.c#L55\n",
    "    https://nlp.stanford.edu/pubs/glove.pdf\n",
    "    \n",
    "    Parameters\n",
    "    ----------\n",
    "    xmax : int\n",
    "        threshold to apply maximum weighting in the loss function, by default 100\n",
    "    alpha : float\n",
    "        power in weighting function, by default 0.75\n",
    "    \"\"\"\n",
    "\n",
    "    def __init__(self, xmax: int = 100, alpha: float = 0.75) -> None:\n",
    "        super().__init__()\n",
    "        self.xmax = xmax\n",
    "        self.alpha = alpha\n",
    "        \n",
    "    def forward(self, y_hat, Xij) -> torch.Tensor:\n",
    "        w = self.f(Xij)\n",
    "        mse = self.mse(y_hat, Xij)\n",
    "        assert mse.size(0) == y_hat.size(0)\n",
    "        return (w * mse).sum()\n",
    "        \n",
    "    def f(self, Xij:torch.LongTensor) -> torch.FloatTensor:\n",
    "        w = Xij / self.xmax\n",
    "        return torch.clamp(w, 0., 1.).pow(self.alpha)\n",
    "    \n",
    "    def mse(self, y_hat: torch.FloatTensor, Xij: torch.LongTensor) -> torch.FloatTensor:\n",
    "        Xij = Xij.to(torch.float32)\n",
    "        return F.mse_loss(y_hat, torch.log(Xij + 1.), reduction='none')"
   ]
  },
  {
   "cell_type": "markdown",
   "metadata": {},
   "source": [
    "### Training"
   ]
  },
  {
   "cell_type": "markdown",
   "metadata": {
    "heading_collapsed": true
   },
   "source": [
    "#### Load data"
   ]
  },
  {
   "cell_type": "code",
   "execution_count": 6,
   "metadata": {
    "hidden": true
   },
   "outputs": [
    {
     "data": {
      "application/vnd.jupyter.widget-view+json": {
       "model_id": "931a5435fbd94b96ab9ec9211ddc3059",
       "version_major": 2,
       "version_minor": 0
      },
      "text/plain": [
       "HBox(children=(IntProgress(value=0, max=78107), HTML(value='')))"
      ]
     },
     "metadata": {},
     "output_type": "display_data"
    },
    {
     "name": "stdout",
     "output_type": "stream",
     "text": [
      "\n"
     ]
    },
    {
     "data": {
      "application/vnd.jupyter.widget-view+json": {
       "model_id": "bb19043b06284107b4fa5c4fff87e654",
       "version_major": 2,
       "version_minor": 0
      },
      "text/plain": [
       "HBox(children=(IntProgress(value=0, max=8196), HTML(value='')))"
      ]
     },
     "metadata": {},
     "output_type": "display_data"
    },
    {
     "name": "stdout",
     "output_type": "stream",
     "text": [
      "\n",
      "Vocab size: 28914\n"
     ]
    }
   ],
   "source": [
    "seed = 0\n",
    "text_file = Path('data/raw/wikitext-2-v1.zip')\n",
    "download_wikitext(text_file)\n",
    "\n",
    "train_sents = prepare_data(text_file, mode='train', sampling_rate=1., seed=seed)\n",
    "val_sents = prepare_data(text_file, mode='valid', sampling_rate=1., seed=seed)\n",
    "\n",
    "train_tokens = Counter([t for sent in train_sents for t in sent])\n",
    "max_vocab = 50000\n",
    "vocab = Vocab([t for t, _ in train_tokens.most_common(max_vocab)])\n",
    "print('Vocab size:', vocab.size)"
   ]
  },
  {
   "cell_type": "code",
   "execution_count": 7,
   "metadata": {
    "hidden": true,
    "scrolled": true
   },
   "outputs": [
    {
     "data": {
      "text/html": [
       "\n",
       "    <div>\n",
       "        <style>\n",
       "            /* Turns off some styling */\n",
       "            progress {\n",
       "                /* gets rid of default border in Firefox and Opera. */\n",
       "                border: none;\n",
       "                /* Needs to be in here for Safari polyfill so background images work as expected. */\n",
       "                background-size: auto;\n",
       "            }\n",
       "            .progress-bar-interrupted, .progress-bar-interrupted::-webkit-progress-bar {\n",
       "                background: #F44336;\n",
       "            }\n",
       "        </style>\n",
       "      <progress value='78107' class='' max='78107', style='width:300px; height:20px; vertical-align: middle;'></progress>\n",
       "      100.00% [78107/78107 00:44<00:00]\n",
       "    </div>\n",
       "    "
      ],
      "text/plain": [
       "<IPython.core.display.HTML object>"
      ]
     },
     "metadata": {},
     "output_type": "display_data"
    },
    {
     "data": {
      "text/html": [
       "\n",
       "    <div>\n",
       "        <style>\n",
       "            /* Turns off some styling */\n",
       "            progress {\n",
       "                /* gets rid of default border in Firefox and Opera. */\n",
       "                border: none;\n",
       "                /* Needs to be in here for Safari polyfill so background images work as expected. */\n",
       "                background-size: auto;\n",
       "            }\n",
       "            .progress-bar-interrupted, .progress-bar-interrupted::-webkit-progress-bar {\n",
       "                background: #F44336;\n",
       "            }\n",
       "        </style>\n",
       "      <progress value='8196' class='' max='8196', style='width:300px; height:20px; vertical-align: middle;'></progress>\n",
       "      100.00% [8196/8196 00:03<00:00]\n",
       "    </div>\n",
       "    "
      ],
      "text/plain": [
       "<IPython.core.display.HTML object>"
      ]
     },
     "metadata": {},
     "output_type": "display_data"
    }
   ],
   "source": [
    "window = 15\n",
    "num_workers = 3\n",
    "d_mode = 'inverse'\n",
    "\n",
    "train_coo = Cooccurence(vocab=vocab, window=window, distance_mode=d_mode, num_workers=num_workers)\n",
    "val_coo = Cooccurence(vocab=vocab, window=window, distance_mode=d_mode, num_workers=num_workers)\n",
    "train_coo.update(train_sents)\n",
    "val_coo.update(val_sents)"
   ]
  },
  {
   "cell_type": "markdown",
   "metadata": {},
   "source": [
    "#### Create Dataset"
   ]
  },
  {
   "cell_type": "code",
   "execution_count": null,
   "metadata": {},
   "outputs": [],
   "source": [
    "train_ds = CooDataset(train_coo)\n",
    "val_ds = CooDataset(val_coo)"
   ]
  },
  {
   "cell_type": "code",
   "execution_count": 75,
   "metadata": {},
   "outputs": [
    {
     "name": "stdout",
     "output_type": "stream",
     "text": [
      "If distance mode is not inverse, the following values are the number of words.\n",
      "Total weight in train: 9360292.48482075\n",
      "Total weight in val: 974024.2906454646\n"
     ]
    }
   ],
   "source": [
    "bs = 1024\n",
    "pm = True\n",
    "\n",
    "train_dl = utils.data.DataLoader(\n",
    "    train_ds, batch_size=bs, shuffle=True, num_workers=num_workers, pin_memory=pm\n",
    ")\n",
    "val_dl = utils.data.DataLoader(\n",
    "    val_ds, batch_size=bs, shuffle=False, num_workers=num_workers, pin_memory=pm\n",
    ")\n",
    "\n",
    "data = DataBunch(\n",
    "    train_dl=train_dl, valid_dl=val_dl,\n",
    "    collate_fn=collate_batch,\n",
    "    device='cuda:0'\n",
    ")\n",
    "\n",
    "print('If distance mode is not inverse, the following values are the number of words.')\n",
    "print('Total weight in train:', train_ds.Xij['count'].sum())\n",
    "print('Total weight in val:', val_ds.Xij['count'].sum())"
   ]
  },
  {
   "cell_type": "markdown",
   "metadata": {},
   "source": [
    "#### Create model"
   ]
  },
  {
   "cell_type": "code",
   "execution_count": 76,
   "metadata": {},
   "outputs": [],
   "source": [
    "model = Glove(vocab, 100)\n",
    "model.to(data.device)\n",
    "learner = Learner(\n",
    "    data,\n",
    "    model,\n",
    "    loss_func=GloveLoss(xmax=100, alpha=0.75),\n",
    "    opt_func=optim.Adam\n",
    ")"
   ]
  },
  {
   "cell_type": "markdown",
   "metadata": {},
   "source": [
    "#### Train model"
   ]
  },
  {
   "cell_type": "code",
   "execution_count": 77,
   "metadata": {},
   "outputs": [
    {
     "data": {
      "text/html": [],
      "text/plain": [
       "<IPython.core.display.HTML object>"
      ]
     },
     "metadata": {},
     "output_type": "display_data"
    },
    {
     "name": "stdout",
     "output_type": "stream",
     "text": [
      "LR Finder is complete, type {learner_name}.recorder.plot() to see the graph.\n"
     ]
    }
   ],
   "source": [
    "lr_find(learner)"
   ]
  },
  {
   "cell_type": "code",
   "execution_count": 78,
   "metadata": {},
   "outputs": [
    {
     "data": {
      "image/png": "[encoded data removed]",
      "text/plain": [
       "<Figure size 432x288 with 1 Axes>"
      ]
     },
     "metadata": {
      "needs_background": "dark"
     },
     "output_type": "display_data"
    }
   ],
   "source": [
    "learner.recorder.plot()"
   ]
  },
  {
   "cell_type": "code",
   "execution_count": null,
   "metadata": {
    "scrolled": true
   },
   "outputs": [
    {
     "data": {
      "text/html": [
       "\n",
       "    <div>\n",
       "        <style>\n",
       "            /* Turns off some styling */\n",
       "            progress {\n",
       "                /* gets rid of default border in Firefox and Opera. */\n",
       "                border: none;\n",
       "                /* Needs to be in here for Safari polyfill so background images work as expected. */\n",
       "                background-size: auto;\n",
       "            }\n",
       "            .progress-bar-interrupted, .progress-bar-interrupted::-webkit-progress-bar {\n",
       "                background: #F44336;\n",
       "            }\n",
       "        </style>\n",
       "      <progress value='0' class='' max='25', style='width:300px; height:20px; vertical-align: middle;'></progress>\n",
       "      0.00% [0/25 00:00<00:00]\n",
       "    </div>\n",
       "    \n",
       "<table border=\"1\" class=\"dataframe\">\n",
       "  <thead>\n",
       "    <tr style=\"text-align: left;\">\n",
       "      <th>epoch</th>\n",
       "      <th>train_loss</th>\n",
       "      <th>valid_loss</th>\n",
       "      <th>time</th>\n",
       "    </tr>\n",
       "  </thead>\n",
       "  <tbody>\n",
       "  </tbody>\n",
       "</table><p>\n",
       "\n",
       "    <div>\n",
       "        <style>\n",
       "            /* Turns off some styling */\n",
       "            progress {\n",
       "                /* gets rid of default border in Firefox and Opera. */\n",
       "                border: none;\n",
       "                /* Needs to be in here for Safari polyfill so background images work as expected. */\n",
       "                background-size: auto;\n",
       "            }\n",
       "            .progress-bar-interrupted, .progress-bar-interrupted::-webkit-progress-bar {\n",
       "                background: #F44336;\n",
       "            }\n",
       "        </style>\n",
       "      <progress value='1119' class='' max='1262', style='width:300px; height:20px; vertical-align: middle;'></progress>\n",
       "      88.67% [1119/1262 00:37<00:04]\n",
       "    </div>\n",
       "    "
      ],
      "text/plain": [
       "<IPython.core.display.HTML object>"
      ]
     },
     "metadata": {},
     "output_type": "display_data"
    }
   ],
   "source": [
    "# glove code hyperparams\n",
    "# lr = 0.05\n",
    "# num_epochs = 25\n",
    "# glove code uses lr of 0.05 \n",
    "# https://github.com/stanfordnlp/GloVe/blob/master/src/glove.c\n",
    "# that lr explodes my loss\n",
    "# ~1e-6 behaves better\n",
    "lr = 0.05\n",
    "lr = 5e-6\n",
    "epochs = 25\n",
    "learner.fit(epochs, lr=lr)"
   ]
  },
  {
   "cell_type": "code",
   "execution_count": 37,
   "metadata": {},
   "outputs": [
    {
     "data": {
      "text/plain": [
       "0.13097161054611206"
      ]
     },
     "execution_count": 37,
     "metadata": {},
     "output_type": "execute_result"
    }
   ],
   "source": [
    "model.similarity('boy', 'ball')"
   ]
  },
  {
   "cell_type": "code",
   "execution_count": 38,
   "metadata": {},
   "outputs": [
    {
     "data": {
      "text/plain": [
       "[('king', 1.0),\n",
       " ('santísima', 0.47828829288482666),\n",
       " ('communication', 0.4110476076602936),\n",
       " ('kept', 0.4006715416908264),\n",
       " ('octave', 0.3947133719921112),\n",
       " ('lyrics', 0.37999165058135986),\n",
       " ('1996', 0.3779255151748657),\n",
       " ('stout', 0.37716835737228394),\n",
       " ('extreme', 0.376064658164978),\n",
       " ('celebrate', 0.3751567006111145)]"
      ]
     },
     "execution_count": 38,
     "metadata": {},
     "output_type": "execute_result"
    }
   ],
   "source": [
    "model.most_similar('king')"
   ]
  },
  {
   "cell_type": "code",
   "execution_count": 39,
   "metadata": {},
   "outputs": [
    {
     "data": {
      "text/plain": [
       "[('queen', 1.0),\n",
       " ('territories', 0.49280861020088196),\n",
       " ('denotes', 0.42824193835258484),\n",
       " ('clubs', 0.4246385991573334),\n",
       " ('authorized', 0.4214208424091339),\n",
       " ('pool', 0.4213694632053375),\n",
       " ('shown', 0.41974443197250366),\n",
       " ('remarks', 0.41296565532684326),\n",
       " ('international', 0.40919914841651917),\n",
       " ('lesbian', 0.40853914618492126)]"
      ]
     },
     "execution_count": 39,
     "metadata": {},
     "output_type": "execute_result"
    }
   ],
   "source": [
    "model.most_similar('queen')"
   ]
  },
  {
   "cell_type": "code",
   "execution_count": 40,
   "metadata": {},
   "outputs": [
    {
     "data": {
      "text/plain": [
       "[('girl', 1.0000001192092896),\n",
       " ('daughter', 0.6950398683547974),\n",
       " ('081', 0.6156168580055237),\n",
       " ('processed', 0.5929248332977295),\n",
       " ('slip', 0.5840063691139221),\n",
       " ('confirms', 0.5839430689811707),\n",
       " ('dad', 0.5629984736442566),\n",
       " ('youngsters', 0.5615664124488831),\n",
       " ('fighters', 0.5591626167297363),\n",
       " ('turboprop', 0.553156316280365)]"
      ]
     },
     "execution_count": 40,
     "metadata": {},
     "output_type": "execute_result"
    }
   ],
   "source": [
    "model.most_similar('girl')"
   ]
  },
  {
   "cell_type": "code",
   "execution_count": 41,
   "metadata": {},
   "outputs": [
    {
     "data": {
      "text/plain": [
       "[('boy', 1.000000238418579),\n",
       " ('cruise', 0.4701233506202698),\n",
       " ('examinations', 0.4626637399196625),\n",
       " ('zuzanna', 0.453369677066803),\n",
       " ('exhaust', 0.43963807821273804),\n",
       " ('marlow', 0.4308280050754547),\n",
       " ('recalled', 0.42248257994651794),\n",
       " ('review', 0.41422948241233826),\n",
       " ('evening', 0.4132612347602844),\n",
       " ('gaps', 0.4085180461406708)]"
      ]
     },
     "execution_count": 41,
     "metadata": {},
     "output_type": "execute_result"
    }
   ],
   "source": [
    "model.most_similar('boy')"
   ]
  },
  {
   "cell_type": "code",
   "execution_count": 43,
   "metadata": {},
   "outputs": [
    {
     "data": {
      "text/plain": [
       "[('toyline', 3.158550977706909),\n",
       " ('wolf', 3.1302003860473633),\n",
       " ('esarhaddon', 3.008922576904297),\n",
       " ('boos', 2.8797550201416016),\n",
       " ('sarsen', 2.877915382385254)]"
      ]
     },
     "execution_count": 43,
     "metadata": {},
     "output_type": "execute_result"
    }
   ],
   "source": [
    "model.analogy('boy', 'man', 'woman')"
   ]
  },
  {
   "cell_type": "markdown",
   "metadata": {},
   "source": [
    "### Pretrained glove"
   ]
  },
  {
   "cell_type": "code",
   "execution_count": 60,
   "metadata": {},
   "outputs": [
    {
     "data": {
      "application/vnd.jupyter.widget-view+json": {
       "model_id": "03ba5c2e3154461e999fe0442e948107",
       "version_major": 2,
       "version_minor": 0
      },
      "text/plain": [
       "HBox(children=(IntProgress(value=1, bar_style='info', max=1), HTML(value='')))"
      ]
     },
     "metadata": {},
     "output_type": "display_data"
    },
    {
     "name": "stdout",
     "output_type": "stream",
     "text": [
      "\n"
     ]
    }
   ],
   "source": [
    "tokens, W = load_glove('data/glove/glove.6B.100d.txt')\n",
    "glove_vocab = Vocab(tokens, add_specials=False)"
   ]
  },
  {
   "cell_type": "code",
   "execution_count": 61,
   "metadata": {},
   "outputs": [],
   "source": [
    "glove = Glove(glove_vocab, W.size(1))"
   ]
  },
  {
   "cell_type": "code",
   "execution_count": 62,
   "metadata": {},
   "outputs": [
    {
     "data": {
      "text/plain": [
       "[('king', 0.9999998807907104),\n",
       " ('presov', 0.47020792961120605),\n",
       " ('diniyar', 0.4319826066493988),\n",
       " ('xiqing', 0.42202600836753845),\n",
       " ('43-year-old', 0.4142630994319916),\n",
       " ('119.36', 0.41008949279785156),\n",
       " ('step-father', 0.4088504910469055),\n",
       " ('cryptogram', 0.407711386680603),\n",
       " ('masnadieri', 0.39987653493881226),\n",
       " ('218', 0.39969319105148315)]"
      ]
     },
     "execution_count": 62,
     "metadata": {},
     "output_type": "execute_result"
    }
   ],
   "source": [
    "glove.most_similar('king')"
   ]
  },
  {
   "cell_type": "code",
   "execution_count": 63,
   "metadata": {},
   "outputs": [
    {
     "data": {
      "text/plain": [
       "[('queen', 1.0000001192092896),\n",
       " ('1.446', 0.475906103849411),\n",
       " ('manber', 0.4549559950828552),\n",
       " ('oakmont', 0.42867404222488403),\n",
       " ('prichard', 0.42549237608909607),\n",
       " ('winterfest', 0.41983669996261597),\n",
       " ('nyala', 0.41780614852905273),\n",
       " ('slowdown', 0.40534621477127075),\n",
       " ('carroll', 0.39995071291923523),\n",
       " ('nebraskan', 0.39841365814208984)]"
      ]
     },
     "execution_count": 63,
     "metadata": {},
     "output_type": "execute_result"
    }
   ],
   "source": [
    "glove.most_similar('queen')"
   ]
  },
  {
   "cell_type": "code",
   "execution_count": 64,
   "metadata": {},
   "outputs": [
    {
     "data": {
      "text/plain": [
       "[('girl', 0.9999997019767761),\n",
       " ('satine', 0.46418696641921997),\n",
       " ('woodgrain', 0.43411779403686523),\n",
       " ('pocho', 0.4268955886363983),\n",
       " ('euroatlantic', 0.42448511719703674),\n",
       " ('gerashchenko', 0.42178109288215637),\n",
       " ('hamate', 0.4123415946960449),\n",
       " ('non-chalcedonian', 0.4062996208667755),\n",
       " ('rachis', 0.401823490858078),\n",
       " ('kaneto', 0.4004417061805725)]"
      ]
     },
     "execution_count": 64,
     "metadata": {},
     "output_type": "execute_result"
    }
   ],
   "source": [
    "glove.most_similar('girl')"
   ]
  },
  {
   "cell_type": "code",
   "execution_count": 65,
   "metadata": {},
   "outputs": [
    {
     "data": {
      "text/plain": [
       "[('boy', 0.9999999403953552),\n",
       " ('nordbaden', 0.4301069378852844),\n",
       " ('tring', 0.42962849140167236),\n",
       " ('hopefuls', 0.42075690627098083),\n",
       " ('sainte-victoire', 0.41124171018600464),\n",
       " ('warnecke', 0.40438613295555115),\n",
       " ('cherri', 0.39648669958114624),\n",
       " ('bloor', 0.39353007078170776),\n",
       " ('aldrich', 0.3854254484176636),\n",
       " ('vlaardingen', 0.38521912693977356)]"
      ]
     },
     "execution_count": 65,
     "metadata": {},
     "output_type": "execute_result"
    }
   ],
   "source": [
    "glove.most_similar('boy')"
   ]
  },
  {
   "cell_type": "code",
   "execution_count": 66,
   "metadata": {},
   "outputs": [
    {
     "data": {
      "text/plain": [
       "[('man', 0.0011205320479348302),\n",
       " ('king', 0.0008881384273990989),\n",
       " ('manganate', 0.0007245009182952344),\n",
       " ('dummerston', 0.0006804452277719975),\n",
       " ('seracini', 0.0006758874515071511)]"
      ]
     },
     "execution_count": 66,
     "metadata": {},
     "output_type": "execute_result"
    }
   ],
   "source": [
    "glove.analogy('king', 'queen', 'man')"
   ]
  },
  {
   "cell_type": "code",
   "execution_count": 73,
   "metadata": {},
   "outputs": [
    {
     "data": {
      "text/plain": [
       "tensor(0.0293, grad_fn=<NormBackward0>)"
      ]
     },
     "execution_count": 73,
     "metadata": {},
     "output_type": "execute_result"
    }
   ],
   "source": [
    "torch.norm(glove[''])"
   ]
  },
  {
   "cell_type": "code",
   "execution_count": null,
   "metadata": {},
   "outputs": [],
   "source": []
  }
 ],
 "metadata": {
  "kernelspec": {
   "display_name": "Python 3",
   "language": "python",
   "name": "python3"
  },
  "language_info": {
   "codemirror_mode": {
    "name": "ipython",
    "version": 3
   },
   "file_extension": ".py",
   "mimetype": "text/x-python",
   "name": "python",
   "nbconvert_exporter": "python",
   "pygments_lexer": "ipython3",
   "version": "3.7.5"
  }
 },
 "nbformat": 4,
 "nbformat_minor": 2
}
